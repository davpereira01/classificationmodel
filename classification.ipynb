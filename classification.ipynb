{
  "cells": [
    {
      "cell_type": "markdown",
      "metadata": {
        "id": "view-in-github",
        "colab_type": "text"
      },
      "source": [
        "<a href=\"https://colab.research.google.com/github/davpereira01/classificationmodel/blob/main/classification.ipynb\" target=\"_parent\"><img src=\"https://colab.research.google.com/assets/colab-badge.svg\" alt=\"Open In Colab\"/></a>"
      ]
    },
    {
      "cell_type": "markdown",
      "source": [
        "# **Aula 1 - Preparando os Dados**"
      ],
      "metadata": {
        "id": "BwhP2rhUGI_k"
      }
    },
    {
      "cell_type": "markdown",
      "source": [
        "## **1.1 Apresentação**"
      ],
      "metadata": {
        "id": "2GbwQeCXGaaV"
      }
    },
    {
      "cell_type": "markdown",
      "source": [
        "## **1.2 Preparando o Ambiente**\n",
        "\n",
        "### PySpark\n",
        "\n",
        "PySpark é uma interface para Apache Spark em Python. Ele não apenas permite que você escreva aplicativos Spark usando APIs Python, mas também fornece o *shell* PySpark para analisar interativamente seus dados em um ambiente distribuído. O PySpark oferece suporte à maioria dos recursos do Spark, como Spark SQL, DataFrame, Streaming, MLlib (Machine Learning) e Spark Core.\n",
        "\n",
        "<center><img src=\"https://caelum-online-public.s3.amazonaws.com/2273-introducao-spark/01/img-001.png\"/></center>\n",
        "\n",
        "#### **Spark SQL e DataFrame**\n",
        "\n",
        "Spark SQL é um módulo Spark para processamento de dados estruturados. Ele fornece uma abstração de programação chamada DataFrame e também pode atuar como mecanismo de consulta SQL distribuído.\n",
        "\n",
        "#### **Spark Streaming**\n",
        "\n",
        "Executando em cima do Spark, o recurso de *streaming* no Apache Spark possibilita o uso de poderosas aplicações interativas e analíticas em *streaming* e dados históricos, enquanto herda a facilidade de uso do Spark e as características de tolerância a falhas.\n",
        "\n",
        "#### **Spark MLlib**\n",
        "\n",
        "Construído sobre o Spark, MLlib é uma biblioteca de aprendizado de máquina escalonável que fornece um conjunto uniforme de APIs de alto nível que ajudam os usuários a criar e ajustar *pipelines* de aprendizado de máquina práticos.\n",
        "\n",
        "#### **Spark Core**\n",
        "\n",
        "Spark Core é o mecanismo de execução geral subjacente para a plataforma Spark sobre o qual todas as outras funcionalidades são construídas. Ele fornece um RDD (*Resilient Distributed Dataset*) e recursos de computação na memória.\n",
        "\n",
        "<font size=2>**Fonte:** [PySpark](https://spark.apache.org/docs/latest/api/python/index.html)</font>"
      ],
      "metadata": {
        "id": "BAWE5PSLMmSX"
      }
    },
    {
      "cell_type": "code",
      "source": [
        "!pip install pyspark"
      ],
      "metadata": {
        "colab": {
          "base_uri": "https://localhost:8080/"
        },
        "id": "4Gs-5LKuvWmE",
        "outputId": "63d53d8f-568a-4996-bdec-1b850f89fa6e"
      },
      "execution_count": 1,
      "outputs": [
        {
          "output_type": "stream",
          "name": "stdout",
          "text": [
            "Collecting pyspark\n",
            "  Downloading pyspark-3.5.1.tar.gz (317.0 MB)\n",
            "\u001b[2K     \u001b[90m━━━━━━━━━━━━━━━━━━━━━━━━━━━━━━━━━━━━━━━━\u001b[0m \u001b[32m317.0/317.0 MB\u001b[0m \u001b[31m4.0 MB/s\u001b[0m eta \u001b[36m0:00:00\u001b[0m\n",
            "\u001b[?25h  Preparing metadata (setup.py) ... \u001b[?25l\u001b[?25hdone\n",
            "Requirement already satisfied: py4j==0.10.9.7 in /usr/local/lib/python3.10/dist-packages (from pyspark) (0.10.9.7)\n",
            "Building wheels for collected packages: pyspark\n",
            "  Building wheel for pyspark (setup.py) ... \u001b[?25l\u001b[?25hdone\n",
            "  Created wheel for pyspark: filename=pyspark-3.5.1-py2.py3-none-any.whl size=317488491 sha256=e6f4eb1791fd412123f8036f418e5d5e5cfae9e0eea262f786d3bc09f8a22212\n",
            "  Stored in directory: /root/.cache/pip/wheels/80/1d/60/2c256ed38dddce2fdd93be545214a63e02fbd8d74fb0b7f3a6\n",
            "Successfully built pyspark\n",
            "Installing collected packages: pyspark\n",
            "Successfully installed pyspark-3.5.1\n"
          ]
        }
      ]
    },
    {
      "cell_type": "markdown",
      "source": [
        "### SparkSession\n",
        "\n",
        "O ponto de entrada para programar o Spark com a API Dataset e DataFrame.\n",
        "\n",
        "Uma SparkSession pode ser utilizada para criar DataFrames, registrar DataFrames como tabelas, executar consultas SQL em tabelas, armazenar em cache e ler arquivos parquet. Para criar uma SparkSession, use o seguinte padrão de construtor:\n",
        "\n",
        "<font size=2>**Fonte:** [SparkSession](https://spark.apache.org/docs/latest/api/python/reference/api/pyspark.sql.SparkSession.html)</font>"
      ],
      "metadata": {
        "id": "43dP4NVZOEI2"
      }
    },
    {
      "cell_type": "code",
      "source": [
        "from pyspark.sql import SparkSession"
      ],
      "metadata": {
        "id": "1_WixBVIvvB-"
      },
      "execution_count": 2,
      "outputs": []
    },
    {
      "cell_type": "code",
      "source": [
        "spark = SparkSession.builder.master('local[*]').appName(\"Classificação com Spark\").getOrCreate()\n",
        "spark"
      ],
      "metadata": {
        "colab": {
          "base_uri": "https://localhost:8080/",
          "height": 219
        },
        "id": "H02jOAtLOpQY",
        "outputId": "396b6ff3-7268-47ac-abaf-929ceb09da8a"
      },
      "execution_count": 3,
      "outputs": [
        {
          "output_type": "execute_result",
          "data": {
            "text/plain": [
              "<pyspark.sql.session.SparkSession at 0x7dac02116020>"
            ],
            "text/html": [
              "\n",
              "            <div>\n",
              "                <p><b>SparkSession - in-memory</b></p>\n",
              "                \n",
              "        <div>\n",
              "            <p><b>SparkContext</b></p>\n",
              "\n",
              "            <p><a href=\"http://8a38d8fce4ac:4040\">Spark UI</a></p>\n",
              "\n",
              "            <dl>\n",
              "              <dt>Version</dt>\n",
              "                <dd><code>v3.5.1</code></dd>\n",
              "              <dt>Master</dt>\n",
              "                <dd><code>local[*]</code></dd>\n",
              "              <dt>AppName</dt>\n",
              "                <dd><code>Classificação com Spark</code></dd>\n",
              "            </dl>\n",
              "        </div>\n",
              "        \n",
              "            </div>\n",
              "        "
            ]
          },
          "metadata": {},
          "execution_count": 3
        }
      ]
    },
    {
      "cell_type": "markdown",
      "source": [
        "## **1.3 Carregamento dos Dados**"
      ],
      "metadata": {
        "id": "BOQSXCsB-XJ4"
      }
    },
    {
      "cell_type": "code",
      "source": [
        "dados = spark.read.csv('dados_clientes.csv', sep=',', header=True, inferSchema=True)"
      ],
      "metadata": {
        "id": "iIjhbXvgPMSy"
      },
      "execution_count": 4,
      "outputs": []
    },
    {
      "cell_type": "code",
      "source": [
        "dados"
      ],
      "metadata": {
        "id": "bItkwybT-BOG",
        "colab": {
          "base_uri": "https://localhost:8080/"
        },
        "outputId": "2240c1f8-bd41-4bed-bda6-6a3c25f4c66d"
      },
      "execution_count": 5,
      "outputs": [
        {
          "output_type": "execute_result",
          "data": {
            "text/plain": [
              "DataFrame[id: int, Churn: string, Mais65anos: int, Conjuge: string, Dependentes: string, MesesDeContrato: int, TelefoneFixo: string, MaisDeUmaLinhaTelefonica: string, Internet: string, SegurancaOnline: string, BackupOnline: string, SeguroDispositivo: string, SuporteTecnico: string, TVaCabo: string, StreamingFilmes: string, TipoContrato: string, ContaCorreio: string, MetodoPagamento: string, MesesCobrados: double]"
            ]
          },
          "metadata": {},
          "execution_count": 5
        }
      ]
    },
    {
      "cell_type": "code",
      "source": [
        "dados.show()"
      ],
      "metadata": {
        "id": "WMx7nLWW-BIV",
        "colab": {
          "base_uri": "https://localhost:8080/"
        },
        "outputId": "bc8b7623-97a8-410a-bde5-85e01fdf2c9b"
      },
      "execution_count": 6,
      "outputs": [
        {
          "output_type": "stream",
          "name": "stdout",
          "text": [
            "+---+-----+----------+-------+-----------+---------------+------------+------------------------+-----------+------------------+------------------+------------------+------------------+------------------+------------------+------------+------------+----------------+-------------+\n",
            "| id|Churn|Mais65anos|Conjuge|Dependentes|MesesDeContrato|TelefoneFixo|MaisDeUmaLinhaTelefonica|   Internet|   SegurancaOnline|      BackupOnline| SeguroDispositivo|    SuporteTecnico|           TVaCabo|   StreamingFilmes|TipoContrato|ContaCorreio| MetodoPagamento|MesesCobrados|\n",
            "+---+-----+----------+-------+-----------+---------------+------------+------------------------+-----------+------------------+------------------+------------------+------------------+------------------+------------------+------------+------------+----------------+-------------+\n",
            "|  0|  Nao|         0|    Sim|        Nao|              1|         Nao|    SemServicoTelefonico|        DSL|               Nao|               Sim|               Nao|               Nao|               Nao|               Nao| Mensalmente|         Sim|BoletoEletronico|        29.85|\n",
            "|  1|  Nao|         0|    Nao|        Nao|             34|         Sim|                     Nao|        DSL|               Sim|               Nao|               Sim|               Nao|               Nao|               Nao|       UmAno|         Nao|          Boleto|        56.95|\n",
            "|  2|  Sim|         0|    Nao|        Nao|              2|         Sim|                     Nao|        DSL|               Sim|               Sim|               Nao|               Nao|               Nao|               Nao| Mensalmente|         Sim|          Boleto|        53.85|\n",
            "|  3|  Nao|         0|    Nao|        Nao|             45|         Nao|    SemServicoTelefonico|        DSL|               Sim|               Nao|               Sim|               Sim|               Nao|               Nao|       UmAno|         Nao|   DebitoEmConta|         42.3|\n",
            "|  4|  Sim|         0|    Nao|        Nao|              2|         Sim|                     Nao|FibraOptica|               Nao|               Nao|               Nao|               Nao|               Nao|               Nao| Mensalmente|         Sim|BoletoEletronico|         70.7|\n",
            "|  5|  Sim|         0|    Nao|        Nao|              8|         Sim|                     Sim|FibraOptica|               Nao|               Nao|               Sim|               Nao|               Sim|               Sim| Mensalmente|         Sim|BoletoEletronico|        99.65|\n",
            "|  6|  Nao|         0|    Nao|        Sim|             22|         Sim|                     Sim|FibraOptica|               Nao|               Sim|               Nao|               Nao|               Sim|               Nao| Mensalmente|         Sim|   CartaoCredito|         89.1|\n",
            "|  7|  Nao|         0|    Nao|        Nao|             10|         Nao|    SemServicoTelefonico|        DSL|               Sim|               Nao|               Nao|               Nao|               Nao|               Nao| Mensalmente|         Nao|          Boleto|        29.75|\n",
            "|  8|  Sim|         0|    Sim|        Nao|             28|         Sim|                     Sim|FibraOptica|               Nao|               Nao|               Sim|               Sim|               Sim|               Sim| Mensalmente|         Sim|BoletoEletronico|        104.8|\n",
            "|  9|  Nao|         0|    Nao|        Sim|             62|         Sim|                     Nao|        DSL|               Sim|               Sim|               Nao|               Nao|               Nao|               Nao|       UmAno|         Nao|   DebitoEmConta|        56.15|\n",
            "| 10|  Nao|         0|    Sim|        Sim|             13|         Sim|                     Nao|        DSL|               Sim|               Nao|               Nao|               Nao|               Nao|               Nao| Mensalmente|         Sim|          Boleto|        49.95|\n",
            "| 11|  Nao|         0|    Nao|        Nao|             16|         Sim|                     Nao|        Nao|SemServicoInternet|SemServicoInternet|SemServicoInternet|SemServicoInternet|SemServicoInternet|SemServicoInternet|    DoisAnos|         Nao|   CartaoCredito|        18.95|\n",
            "| 12|  Nao|         0|    Sim|        Nao|             58|         Sim|                     Sim|FibraOptica|               Nao|               Nao|               Sim|               Nao|               Sim|               Sim|       UmAno|         Nao|   CartaoCredito|       100.35|\n",
            "| 13|  Sim|         0|    Nao|        Nao|             49|         Sim|                     Sim|FibraOptica|               Nao|               Sim|               Sim|               Nao|               Sim|               Sim| Mensalmente|         Sim|   DebitoEmConta|        103.7|\n",
            "| 14|  Nao|         0|    Nao|        Nao|             25|         Sim|                     Nao|FibraOptica|               Sim|               Nao|               Sim|               Sim|               Sim|               Sim| Mensalmente|         Sim|BoletoEletronico|        105.5|\n",
            "| 15|  Nao|         0|    Sim|        Sim|             69|         Sim|                     Sim|FibraOptica|               Sim|               Sim|               Sim|               Sim|               Sim|               Sim|    DoisAnos|         Nao|   CartaoCredito|       113.25|\n",
            "| 16|  Nao|         0|    Nao|        Nao|             52|         Sim|                     Nao|        Nao|SemServicoInternet|SemServicoInternet|SemServicoInternet|SemServicoInternet|SemServicoInternet|SemServicoInternet|       UmAno|         Nao|          Boleto|        20.65|\n",
            "| 17|  Nao|         0|    Nao|        Sim|             71|         Sim|                     Sim|FibraOptica|               Sim|               Nao|               Sim|               Nao|               Sim|               Sim|    DoisAnos|         Nao|   DebitoEmConta|        106.7|\n",
            "| 18|  Sim|         0|    Sim|        Sim|             10|         Sim|                     Nao|        DSL|               Nao|               Nao|               Sim|               Sim|               Nao|               Nao| Mensalmente|         Nao|   CartaoCredito|         55.2|\n",
            "| 19|  Nao|         0|    Nao|        Nao|             21|         Sim|                     Nao|FibraOptica|               Nao|               Sim|               Sim|               Nao|               Nao|               Sim| Mensalmente|         Sim|BoletoEletronico|        90.05|\n",
            "+---+-----+----------+-------+-----------+---------------+------------+------------------------+-----------+------------------+------------------+------------------+------------------+------------------+------------------+------------+------------+----------------+-------------+\n",
            "only showing top 20 rows\n",
            "\n"
          ]
        }
      ]
    },
    {
      "cell_type": "code",
      "source": [
        "dados.count()"
      ],
      "metadata": {
        "id": "DyXF17Oo-BCw",
        "colab": {
          "base_uri": "https://localhost:8080/"
        },
        "outputId": "bba1137b-0220-42dd-d58a-cb15afb38cdd"
      },
      "execution_count": 7,
      "outputs": [
        {
          "output_type": "execute_result",
          "data": {
            "text/plain": [
              "10348"
            ]
          },
          "metadata": {},
          "execution_count": 7
        }
      ]
    },
    {
      "cell_type": "code",
      "source": [
        "dados.select('Churn').groupBy('Churn').count().show()"
      ],
      "metadata": {
        "id": "wOXJOUgGpi9z",
        "colab": {
          "base_uri": "https://localhost:8080/"
        },
        "outputId": "1cf381f5-e308-43e7-8a4e-e75789f94d68"
      },
      "execution_count": 8,
      "outputs": [
        {
          "output_type": "stream",
          "name": "stdout",
          "text": [
            "+-----+-----+\n",
            "|Churn|count|\n",
            "+-----+-----+\n",
            "|  Sim| 5174|\n",
            "|  Nao| 5174|\n",
            "+-----+-----+\n",
            "\n"
          ]
        }
      ]
    },
    {
      "cell_type": "code",
      "source": [
        "dados.printSchema()"
      ],
      "metadata": {
        "id": "K18E1wBo9A8P",
        "colab": {
          "base_uri": "https://localhost:8080/"
        },
        "outputId": "91a97e3e-92aa-46e8-fe94-8a6876a220f3"
      },
      "execution_count": 9,
      "outputs": [
        {
          "output_type": "stream",
          "name": "stdout",
          "text": [
            "root\n",
            " |-- id: integer (nullable = true)\n",
            " |-- Churn: string (nullable = true)\n",
            " |-- Mais65anos: integer (nullable = true)\n",
            " |-- Conjuge: string (nullable = true)\n",
            " |-- Dependentes: string (nullable = true)\n",
            " |-- MesesDeContrato: integer (nullable = true)\n",
            " |-- TelefoneFixo: string (nullable = true)\n",
            " |-- MaisDeUmaLinhaTelefonica: string (nullable = true)\n",
            " |-- Internet: string (nullable = true)\n",
            " |-- SegurancaOnline: string (nullable = true)\n",
            " |-- BackupOnline: string (nullable = true)\n",
            " |-- SeguroDispositivo: string (nullable = true)\n",
            " |-- SuporteTecnico: string (nullable = true)\n",
            " |-- TVaCabo: string (nullable = true)\n",
            " |-- StreamingFilmes: string (nullable = true)\n",
            " |-- TipoContrato: string (nullable = true)\n",
            " |-- ContaCorreio: string (nullable = true)\n",
            " |-- MetodoPagamento: string (nullable = true)\n",
            " |-- MesesCobrados: double (nullable = true)\n",
            "\n"
          ]
        }
      ]
    },
    {
      "cell_type": "markdown",
      "source": [
        "## **1.4 Transformando os Dados**\n",
        "\n",
        "<font size=2>**Fonte:** [Functions](https://spark.apache.org/docs/latest/api/python/reference/pyspark.sql.html#functions)</font>"
      ],
      "metadata": {
        "id": "blFAMaSBVV2u"
      }
    },
    {
      "cell_type": "code",
      "source": [
        "colunasBinarias = [\n",
        "    'Churn',\n",
        "    'Conjuge',\n",
        "    'Dependentes',\n",
        "    'TelefoneFixo',\n",
        "    'MaisDeUmaLinhaTelefonica',\n",
        "    'SegurancaOnline',\n",
        "    'BackupOnline',\n",
        "    'SeguroDispositivo',\n",
        "    'SuporteTecnico',\n",
        "    'TVaCabo',\n",
        "    'StreamingFilmes',\n",
        "    'ContaCorreio'\n",
        "]"
      ],
      "metadata": {
        "id": "mTav14ezr0Uf"
      },
      "execution_count": 10,
      "outputs": []
    },
    {
      "cell_type": "code",
      "source": [
        "from pyspark.sql import functions as f"
      ],
      "metadata": {
        "id": "DokzQv2rsnbC"
      },
      "execution_count": 11,
      "outputs": []
    },
    {
      "cell_type": "code",
      "source": [
        "todasColunas = [f.when(f.col(c)=='Sim', 1).otherwise(0).alias(c) for c in colunasBinarias]\n",
        "for coluna in reversed(dados.columns):\n",
        "  if coluna not in colunasBinarias:\n",
        "    todasColunas.insert(0, coluna)\n",
        "todasColunas"
      ],
      "metadata": {
        "id": "sqW_vtly9rw0",
        "colab": {
          "base_uri": "https://localhost:8080/"
        },
        "outputId": "8a86b82b-6f2c-4acb-d29f-5c906049eafc"
      },
      "execution_count": 12,
      "outputs": [
        {
          "output_type": "execute_result",
          "data": {
            "text/plain": [
              "['id',\n",
              " 'Mais65anos',\n",
              " 'MesesDeContrato',\n",
              " 'Internet',\n",
              " 'TipoContrato',\n",
              " 'MetodoPagamento',\n",
              " 'MesesCobrados',\n",
              " Column<'CASE WHEN (Churn = Sim) THEN 1 ELSE 0 END AS Churn'>,\n",
              " Column<'CASE WHEN (Conjuge = Sim) THEN 1 ELSE 0 END AS Conjuge'>,\n",
              " Column<'CASE WHEN (Dependentes = Sim) THEN 1 ELSE 0 END AS Dependentes'>,\n",
              " Column<'CASE WHEN (TelefoneFixo = Sim) THEN 1 ELSE 0 END AS TelefoneFixo'>,\n",
              " Column<'CASE WHEN (MaisDeUmaLinhaTelefonica = Sim) THEN 1 ELSE 0 END AS MaisDeUmaLinhaTelefonica'>,\n",
              " Column<'CASE WHEN (SegurancaOnline = Sim) THEN 1 ELSE 0 END AS SegurancaOnline'>,\n",
              " Column<'CASE WHEN (BackupOnline = Sim) THEN 1 ELSE 0 END AS BackupOnline'>,\n",
              " Column<'CASE WHEN (SeguroDispositivo = Sim) THEN 1 ELSE 0 END AS SeguroDispositivo'>,\n",
              " Column<'CASE WHEN (SuporteTecnico = Sim) THEN 1 ELSE 0 END AS SuporteTecnico'>,\n",
              " Column<'CASE WHEN (TVaCabo = Sim) THEN 1 ELSE 0 END AS TVaCabo'>,\n",
              " Column<'CASE WHEN (StreamingFilmes = Sim) THEN 1 ELSE 0 END AS StreamingFilmes'>,\n",
              " Column<'CASE WHEN (ContaCorreio = Sim) THEN 1 ELSE 0 END AS ContaCorreio'>]"
            ]
          },
          "metadata": {},
          "execution_count": 12
        }
      ]
    },
    {
      "cell_type": "code",
      "source": [
        "dados.select(todasColunas).show()"
      ],
      "metadata": {
        "id": "lhAyVrcFmKYT",
        "colab": {
          "base_uri": "https://localhost:8080/"
        },
        "outputId": "1695059a-9540-4956-853a-a27f41e436a4"
      },
      "execution_count": 13,
      "outputs": [
        {
          "output_type": "stream",
          "name": "stdout",
          "text": [
            "+---+----------+---------------+-----------+------------+----------------+-------------+-----+-------+-----------+------------+------------------------+---------------+------------+-----------------+--------------+-------+---------------+------------+\n",
            "| id|Mais65anos|MesesDeContrato|   Internet|TipoContrato| MetodoPagamento|MesesCobrados|Churn|Conjuge|Dependentes|TelefoneFixo|MaisDeUmaLinhaTelefonica|SegurancaOnline|BackupOnline|SeguroDispositivo|SuporteTecnico|TVaCabo|StreamingFilmes|ContaCorreio|\n",
            "+---+----------+---------------+-----------+------------+----------------+-------------+-----+-------+-----------+------------+------------------------+---------------+------------+-----------------+--------------+-------+---------------+------------+\n",
            "|  0|         0|              1|        DSL| Mensalmente|BoletoEletronico|        29.85|    0|      1|          0|           0|                       0|              0|           1|                0|             0|      0|              0|           1|\n",
            "|  1|         0|             34|        DSL|       UmAno|          Boleto|        56.95|    0|      0|          0|           1|                       0|              1|           0|                1|             0|      0|              0|           0|\n",
            "|  2|         0|              2|        DSL| Mensalmente|          Boleto|        53.85|    1|      0|          0|           1|                       0|              1|           1|                0|             0|      0|              0|           1|\n",
            "|  3|         0|             45|        DSL|       UmAno|   DebitoEmConta|         42.3|    0|      0|          0|           0|                       0|              1|           0|                1|             1|      0|              0|           0|\n",
            "|  4|         0|              2|FibraOptica| Mensalmente|BoletoEletronico|         70.7|    1|      0|          0|           1|                       0|              0|           0|                0|             0|      0|              0|           1|\n",
            "|  5|         0|              8|FibraOptica| Mensalmente|BoletoEletronico|        99.65|    1|      0|          0|           1|                       1|              0|           0|                1|             0|      1|              1|           1|\n",
            "|  6|         0|             22|FibraOptica| Mensalmente|   CartaoCredito|         89.1|    0|      0|          1|           1|                       1|              0|           1|                0|             0|      1|              0|           1|\n",
            "|  7|         0|             10|        DSL| Mensalmente|          Boleto|        29.75|    0|      0|          0|           0|                       0|              1|           0|                0|             0|      0|              0|           0|\n",
            "|  8|         0|             28|FibraOptica| Mensalmente|BoletoEletronico|        104.8|    1|      1|          0|           1|                       1|              0|           0|                1|             1|      1|              1|           1|\n",
            "|  9|         0|             62|        DSL|       UmAno|   DebitoEmConta|        56.15|    0|      0|          1|           1|                       0|              1|           1|                0|             0|      0|              0|           0|\n",
            "| 10|         0|             13|        DSL| Mensalmente|          Boleto|        49.95|    0|      1|          1|           1|                       0|              1|           0|                0|             0|      0|              0|           1|\n",
            "| 11|         0|             16|        Nao|    DoisAnos|   CartaoCredito|        18.95|    0|      0|          0|           1|                       0|              0|           0|                0|             0|      0|              0|           0|\n",
            "| 12|         0|             58|FibraOptica|       UmAno|   CartaoCredito|       100.35|    0|      1|          0|           1|                       1|              0|           0|                1|             0|      1|              1|           0|\n",
            "| 13|         0|             49|FibraOptica| Mensalmente|   DebitoEmConta|        103.7|    1|      0|          0|           1|                       1|              0|           1|                1|             0|      1|              1|           1|\n",
            "| 14|         0|             25|FibraOptica| Mensalmente|BoletoEletronico|        105.5|    0|      0|          0|           1|                       0|              1|           0|                1|             1|      1|              1|           1|\n",
            "| 15|         0|             69|FibraOptica|    DoisAnos|   CartaoCredito|       113.25|    0|      1|          1|           1|                       1|              1|           1|                1|             1|      1|              1|           0|\n",
            "| 16|         0|             52|        Nao|       UmAno|          Boleto|        20.65|    0|      0|          0|           1|                       0|              0|           0|                0|             0|      0|              0|           0|\n",
            "| 17|         0|             71|FibraOptica|    DoisAnos|   DebitoEmConta|        106.7|    0|      0|          1|           1|                       1|              1|           0|                1|             0|      1|              1|           0|\n",
            "| 18|         0|             10|        DSL| Mensalmente|   CartaoCredito|         55.2|    1|      1|          1|           1|                       0|              0|           0|                1|             1|      0|              0|           0|\n",
            "| 19|         0|             21|FibraOptica| Mensalmente|BoletoEletronico|        90.05|    0|      0|          0|           1|                       0|              0|           1|                1|             0|      0|              1|           1|\n",
            "+---+----------+---------------+-----------+------------+----------------+-------------+-----+-------+-----------+------------+------------------------+---------------+------------+-----------------+--------------+-------+---------------+------------+\n",
            "only showing top 20 rows\n",
            "\n"
          ]
        }
      ]
    },
    {
      "cell_type": "code",
      "source": [
        "dataset = dados.select(todasColunas)"
      ],
      "metadata": {
        "id": "Mhp-2cRy70mI"
      },
      "execution_count": 14,
      "outputs": []
    },
    {
      "cell_type": "code",
      "source": [
        "dataset.show()"
      ],
      "metadata": {
        "id": "TEpK0IXUs2BF",
        "colab": {
          "base_uri": "https://localhost:8080/"
        },
        "outputId": "f1e75438-db44-4b3c-8b28-11107c327dd7"
      },
      "execution_count": 15,
      "outputs": [
        {
          "output_type": "stream",
          "name": "stdout",
          "text": [
            "+---+----------+---------------+-----------+------------+----------------+-------------+-----+-------+-----------+------------+------------------------+---------------+------------+-----------------+--------------+-------+---------------+------------+\n",
            "| id|Mais65anos|MesesDeContrato|   Internet|TipoContrato| MetodoPagamento|MesesCobrados|Churn|Conjuge|Dependentes|TelefoneFixo|MaisDeUmaLinhaTelefonica|SegurancaOnline|BackupOnline|SeguroDispositivo|SuporteTecnico|TVaCabo|StreamingFilmes|ContaCorreio|\n",
            "+---+----------+---------------+-----------+------------+----------------+-------------+-----+-------+-----------+------------+------------------------+---------------+------------+-----------------+--------------+-------+---------------+------------+\n",
            "|  0|         0|              1|        DSL| Mensalmente|BoletoEletronico|        29.85|    0|      1|          0|           0|                       0|              0|           1|                0|             0|      0|              0|           1|\n",
            "|  1|         0|             34|        DSL|       UmAno|          Boleto|        56.95|    0|      0|          0|           1|                       0|              1|           0|                1|             0|      0|              0|           0|\n",
            "|  2|         0|              2|        DSL| Mensalmente|          Boleto|        53.85|    1|      0|          0|           1|                       0|              1|           1|                0|             0|      0|              0|           1|\n",
            "|  3|         0|             45|        DSL|       UmAno|   DebitoEmConta|         42.3|    0|      0|          0|           0|                       0|              1|           0|                1|             1|      0|              0|           0|\n",
            "|  4|         0|              2|FibraOptica| Mensalmente|BoletoEletronico|         70.7|    1|      0|          0|           1|                       0|              0|           0|                0|             0|      0|              0|           1|\n",
            "|  5|         0|              8|FibraOptica| Mensalmente|BoletoEletronico|        99.65|    1|      0|          0|           1|                       1|              0|           0|                1|             0|      1|              1|           1|\n",
            "|  6|         0|             22|FibraOptica| Mensalmente|   CartaoCredito|         89.1|    0|      0|          1|           1|                       1|              0|           1|                0|             0|      1|              0|           1|\n",
            "|  7|         0|             10|        DSL| Mensalmente|          Boleto|        29.75|    0|      0|          0|           0|                       0|              1|           0|                0|             0|      0|              0|           0|\n",
            "|  8|         0|             28|FibraOptica| Mensalmente|BoletoEletronico|        104.8|    1|      1|          0|           1|                       1|              0|           0|                1|             1|      1|              1|           1|\n",
            "|  9|         0|             62|        DSL|       UmAno|   DebitoEmConta|        56.15|    0|      0|          1|           1|                       0|              1|           1|                0|             0|      0|              0|           0|\n",
            "| 10|         0|             13|        DSL| Mensalmente|          Boleto|        49.95|    0|      1|          1|           1|                       0|              1|           0|                0|             0|      0|              0|           1|\n",
            "| 11|         0|             16|        Nao|    DoisAnos|   CartaoCredito|        18.95|    0|      0|          0|           1|                       0|              0|           0|                0|             0|      0|              0|           0|\n",
            "| 12|         0|             58|FibraOptica|       UmAno|   CartaoCredito|       100.35|    0|      1|          0|           1|                       1|              0|           0|                1|             0|      1|              1|           0|\n",
            "| 13|         0|             49|FibraOptica| Mensalmente|   DebitoEmConta|        103.7|    1|      0|          0|           1|                       1|              0|           1|                1|             0|      1|              1|           1|\n",
            "| 14|         0|             25|FibraOptica| Mensalmente|BoletoEletronico|        105.5|    0|      0|          0|           1|                       0|              1|           0|                1|             1|      1|              1|           1|\n",
            "| 15|         0|             69|FibraOptica|    DoisAnos|   CartaoCredito|       113.25|    0|      1|          1|           1|                       1|              1|           1|                1|             1|      1|              1|           0|\n",
            "| 16|         0|             52|        Nao|       UmAno|          Boleto|        20.65|    0|      0|          0|           1|                       0|              0|           0|                0|             0|      0|              0|           0|\n",
            "| 17|         0|             71|FibraOptica|    DoisAnos|   DebitoEmConta|        106.7|    0|      0|          1|           1|                       1|              1|           0|                1|             0|      1|              1|           0|\n",
            "| 18|         0|             10|        DSL| Mensalmente|   CartaoCredito|         55.2|    1|      1|          1|           1|                       0|              0|           0|                1|             1|      0|              0|           0|\n",
            "| 19|         0|             21|FibraOptica| Mensalmente|BoletoEletronico|        90.05|    0|      0|          0|           1|                       0|              0|           1|                1|             0|      0|              1|           1|\n",
            "+---+----------+---------------+-----------+------------+----------------+-------------+-----+-------+-----------+------------+------------------------+---------------+------------+-----------------+--------------+-------+---------------+------------+\n",
            "only showing top 20 rows\n",
            "\n"
          ]
        }
      ]
    },
    {
      "cell_type": "markdown",
      "source": [
        "## **1.5 Criando *Dummies***\n",
        "\n",
        "Transforma os dados categóricos que tem mais de uma opção em várias colunas, colocando 1 e 0 para essas colunas. Ex: Na coluna Intenet a internet poderia ser DSL, FibraOptica e Não(sem net), logo 3 categorias. Assim tranformamos essa coluna em três colunas e se ela for fibra optica, coloca 1, se não 0."
      ],
      "metadata": {
        "id": "FLn2a7ym7MLp"
      }
    },
    {
      "cell_type": "code",
      "source": [
        "dataset.printSchema()"
      ],
      "metadata": {
        "id": "E_Hs2oXj9-pq",
        "colab": {
          "base_uri": "https://localhost:8080/"
        },
        "outputId": "606313c6-eb2d-4f9d-d408-711fb6ef35a2"
      },
      "execution_count": 16,
      "outputs": [
        {
          "output_type": "stream",
          "name": "stdout",
          "text": [
            "root\n",
            " |-- id: integer (nullable = true)\n",
            " |-- Mais65anos: integer (nullable = true)\n",
            " |-- MesesDeContrato: integer (nullable = true)\n",
            " |-- Internet: string (nullable = true)\n",
            " |-- TipoContrato: string (nullable = true)\n",
            " |-- MetodoPagamento: string (nullable = true)\n",
            " |-- MesesCobrados: double (nullable = true)\n",
            " |-- Churn: integer (nullable = false)\n",
            " |-- Conjuge: integer (nullable = false)\n",
            " |-- Dependentes: integer (nullable = false)\n",
            " |-- TelefoneFixo: integer (nullable = false)\n",
            " |-- MaisDeUmaLinhaTelefonica: integer (nullable = false)\n",
            " |-- SegurancaOnline: integer (nullable = false)\n",
            " |-- BackupOnline: integer (nullable = false)\n",
            " |-- SeguroDispositivo: integer (nullable = false)\n",
            " |-- SuporteTecnico: integer (nullable = false)\n",
            " |-- TVaCabo: integer (nullable = false)\n",
            " |-- StreamingFilmes: integer (nullable = false)\n",
            " |-- ContaCorreio: integer (nullable = false)\n",
            "\n"
          ]
        }
      ]
    },
    {
      "cell_type": "code",
      "source": [
        "dataset.select(['Internet', 'TipoContrato', 'MetodoPagamento']).show()"
      ],
      "metadata": {
        "id": "DFJx294nMCit",
        "colab": {
          "base_uri": "https://localhost:8080/"
        },
        "outputId": "ea6fde97-2b49-4676-e2cc-9b185c852600"
      },
      "execution_count": 17,
      "outputs": [
        {
          "output_type": "stream",
          "name": "stdout",
          "text": [
            "+-----------+------------+----------------+\n",
            "|   Internet|TipoContrato| MetodoPagamento|\n",
            "+-----------+------------+----------------+\n",
            "|        DSL| Mensalmente|BoletoEletronico|\n",
            "|        DSL|       UmAno|          Boleto|\n",
            "|        DSL| Mensalmente|          Boleto|\n",
            "|        DSL|       UmAno|   DebitoEmConta|\n",
            "|FibraOptica| Mensalmente|BoletoEletronico|\n",
            "|FibraOptica| Mensalmente|BoletoEletronico|\n",
            "|FibraOptica| Mensalmente|   CartaoCredito|\n",
            "|        DSL| Mensalmente|          Boleto|\n",
            "|FibraOptica| Mensalmente|BoletoEletronico|\n",
            "|        DSL|       UmAno|   DebitoEmConta|\n",
            "|        DSL| Mensalmente|          Boleto|\n",
            "|        Nao|    DoisAnos|   CartaoCredito|\n",
            "|FibraOptica|       UmAno|   CartaoCredito|\n",
            "|FibraOptica| Mensalmente|   DebitoEmConta|\n",
            "|FibraOptica| Mensalmente|BoletoEletronico|\n",
            "|FibraOptica|    DoisAnos|   CartaoCredito|\n",
            "|        Nao|       UmAno|          Boleto|\n",
            "|FibraOptica|    DoisAnos|   DebitoEmConta|\n",
            "|        DSL| Mensalmente|   CartaoCredito|\n",
            "|FibraOptica| Mensalmente|BoletoEletronico|\n",
            "+-----------+------------+----------------+\n",
            "only showing top 20 rows\n",
            "\n"
          ]
        }
      ]
    },
    {
      "cell_type": "code",
      "source": [
        "dataset.groupBy('id').pivot('MetodoPagamento').agg(f.lit(1)).na.fill(0).show()"
      ],
      "metadata": {
        "id": "jHb0pPZXPrYa",
        "colab": {
          "base_uri": "https://localhost:8080/"
        },
        "outputId": "d4545707-b938-4f2c-b1f0-d38a7b9ffcb7"
      },
      "execution_count": 18,
      "outputs": [
        {
          "output_type": "stream",
          "name": "stdout",
          "text": [
            "+-----+------+----------------+-------------+-------------+\n",
            "|   id|Boleto|BoletoEletronico|CartaoCredito|DebitoEmConta|\n",
            "+-----+------+----------------+-------------+-------------+\n",
            "| 3997|     0|               0|            1|            0|\n",
            "| 7554|     0|               1|            0|            0|\n",
            "| 6336|     0|               1|            0|            0|\n",
            "| 6357|     0|               1|            0|            0|\n",
            "| 9427|     0|               0|            1|            0|\n",
            "| 2659|     0|               0|            1|            0|\n",
            "|  471|     0|               1|            0|            0|\n",
            "| 4935|     0|               0|            1|            0|\n",
            "| 4818|     0|               0|            1|            0|\n",
            "| 1342|     1|               0|            0|            0|\n",
            "| 1959|     0|               1|            0|            0|\n",
            "| 9376|     0|               0|            1|            0|\n",
            "| 2366|     0|               1|            0|            0|\n",
            "| 1580|     0|               0|            0|            1|\n",
            "| 9900|     0|               1|            0|            0|\n",
            "| 9852|     1|               0|            0|            0|\n",
            "| 3918|     0|               1|            0|            0|\n",
            "| 7880|     0|               1|            0|            0|\n",
            "| 1238|     0|               1|            0|            0|\n",
            "|10206|     0|               1|            0|            0|\n",
            "+-----+------+----------------+-------------+-------------+\n",
            "only showing top 20 rows\n",
            "\n"
          ]
        }
      ]
    },
    {
      "cell_type": "code",
      "source": [
        "Internet = dataset.groupBy('id').pivot('Internet').agg(f.lit(1)).na.fill(0)\n",
        "TipoContrato = dataset.groupBy('id').pivot('TipoContrato').agg(f.lit(1)).na.fill(0)\n",
        "MetodoPagamento = dataset.groupBy('id').pivot('MetodoPagamento').agg(f.lit(1)).na.fill(0)"
      ],
      "metadata": {
        "id": "B1FK7TOmRSYF"
      },
      "execution_count": 19,
      "outputs": []
    },
    {
      "cell_type": "code",
      "source": [
        "dataset\\\n",
        "    .join(Internet, 'id', how='inner')\\\n",
        "    .join(TipoContrato, 'id', how='inner')\\\n",
        "    .join(MetodoPagamento, 'id', how='inner')\\\n",
        "    .select(\n",
        "        '*',\n",
        "        f.col('DSL').alias('Internet_DSL'),\n",
        "        f.col('FibraOptica').alias('Internet_FibraOptica'),\n",
        "        f.col('Nao').alias('Internet_Nao'),\n",
        "        f.col('Mensalmente').alias('TipoContrato_Mensalmente'),\n",
        "        f.col('UmAno').alias('TipoContrato_UmAno'),\n",
        "        f.col('DoisAnos').alias('TipoContrato_DoisAnos'),\n",
        "        f.col('DebitoEmConta').alias('MetodoPagamento_DebitoEmConta'),\n",
        "        f.col('CartaoCredito').alias('MetodoPagamento_CartaoCredito'),\n",
        "        f.col('BoletoEletronico').alias('MetodoPagamento_BoletoEletronico'),\n",
        "        f.col('Boleto').alias('MetodoPagamento_Boleto')\n",
        "    ).drop(\n",
        "        'Internet', 'TipoContrato', 'MetodoPagamento', 'DSL',\n",
        "        'FibraOptica', 'Nao', 'Mensalmente', 'UmAno', 'DoisAnos',\n",
        "        'DebitoEmConta', 'CartaoCredito', 'BoletoEletronico', 'Boleto'\n",
        "    ).show()"
      ],
      "metadata": {
        "id": "HVfjs5MBw5-a",
        "colab": {
          "base_uri": "https://localhost:8080/"
        },
        "outputId": "d5a1ac70-a170-4859-a109-19531f4f5b7a"
      },
      "execution_count": 20,
      "outputs": [
        {
          "output_type": "stream",
          "name": "stdout",
          "text": [
            "+----+----------+---------------+-----------------+-----+-------+-----------+------------+------------------------+---------------+------------+-----------------+--------------+-------+---------------+------------+------------+--------------------+------------+------------------------+------------------+---------------------+-----------------------------+-----------------------------+--------------------------------+----------------------+\n",
            "|  id|Mais65anos|MesesDeContrato|    MesesCobrados|Churn|Conjuge|Dependentes|TelefoneFixo|MaisDeUmaLinhaTelefonica|SegurancaOnline|BackupOnline|SeguroDispositivo|SuporteTecnico|TVaCabo|StreamingFilmes|ContaCorreio|Internet_DSL|Internet_FibraOptica|Internet_Nao|TipoContrato_Mensalmente|TipoContrato_UmAno|TipoContrato_DoisAnos|MetodoPagamento_DebitoEmConta|MetodoPagamento_CartaoCredito|MetodoPagamento_BoletoEletronico|MetodoPagamento_Boleto|\n",
            "+----+----------+---------------+-----------------+-----+-------+-----------+------------+------------------------+---------------+------------+-----------------+--------------+-------+---------------+------------+------------+--------------------+------------+------------------------+------------------+---------------------+-----------------------------+-----------------------------+--------------------------------+----------------------+\n",
            "|7982|         0|              1|45.30540797610398|    1|      0|          0|           0|                       0|              0|           0|                0|             0|      1|              1|           1|           1|                   0|           0|                       1|                 0|                    0|                            0|                            0|                               1|                     0|\n",
            "|9465|         0|             60|103.6142230120257|    1|      1|          0|           1|                       1|              0|           1|                1|             0|      1|              1|           1|           0|                   1|           0|                       1|                 0|                    0|                            0|                            0|                               1|                     0|\n",
            "|2122|         0|             12|            75.85|    0|      0|          0|           1|                       1|              0|           0|                0|             1|      1|              1|           1|           1|                   0|           0|                       0|                 1|                    0|                            0|                            0|                               0|                     1|\n",
            "|3997|         0|             69|            61.45|    0|      1|          0|           1|                       0|              0|           1|                0|             0|      0|              1|           1|           1|                   0|           0|                       0|                 0|                    1|                            0|                            1|                               0|                     0|\n",
            "|6654|         0|              7|             86.5|    1|      1|          0|           1|                       1|              0|           0|                0|             0|      1|              0|           1|           0|                   1|           0|                       1|                 0|                    0|                            0|                            0|                               1|                     0|\n",
            "|7880|         0|             14|85.03742670311915|    1|      0|          0|           1|                       1|              0|           0|                0|             0|      0|              1|           1|           0|                   1|           0|                       1|                 0|                    0|                            0|                            0|                               1|                     0|\n",
            "|4519|         0|             57|            109.4|    0|      1|          0|           1|                       1|              0|           1|                1|             1|      1|              1|           1|           0|                   1|           0|                       0|                 1|                    0|                            1|                            0|                               0|                     0|\n",
            "|6466|         0|             18|            74.15|    0|      0|          0|           1|                       1|              0|           0|                0|             0|      0|              0|           0|           0|                   1|           0|                       1|                 0|                    0|                            0|                            0|                               0|                     1|\n",
            "| 496|         0|             28|             60.9|    0|      1|          0|           1|                       0|              1|           1|                0|             1|      0|              0|           0|           1|                   0|           0|                       1|                 0|                    0|                            0|                            0|                               0|                     1|\n",
            "|7833|         0|             46| 80.8824189403559|    1|      1|          0|           1|                       0|              0|           0|                0|             0|      0|              1|           1|           0|                   1|           0|                       1|                 0|                    0|                            0|                            0|                               1|                     0|\n",
            "|1591|         0|             17|             21.1|    0|      0|          0|           1|                       0|              0|           0|                0|             0|      0|              0|           0|           0|                   0|           1|                       1|                 0|                    0|                            0|                            1|                               0|                     0|\n",
            "|2866|         0|             12|             84.6|    0|      0|          0|           1|                       0|              0|           1|                0|             0|      0|              1|           1|           0|                   1|           0|                       1|                 0|                    0|                            0|                            0|                               1|                     0|\n",
            "|8592|         0|              5|82.71735660557214|    1|      1|          0|           1|                       1|              0|           0|                0|             0|      1|              0|           1|           0|                   1|           0|                       1|                 0|                    0|                            0|                            0|                               1|                     0|\n",
            "|1829|         0|              8|            74.85|    0|      0|          0|           1|                       1|              0|           0|                0|             0|      0|              0|           1|           0|                   1|           0|                       1|                 0|                    0|                            0|                            0|                               1|                     0|\n",
            "| 463|         0|              7|             99.8|    1|      0|          0|           1|                       1|              0|           1|                0|             0|      1|              1|           1|           0|                   1|           0|                       1|                 0|                    0|                            0|                            0|                               1|                     0|\n",
            "|4900|         1|             37|             85.7|    1|      1|          0|           1|                       1|              0|           0|                0|             0|      1|              0|           1|           0|                   1|           0|                       1|                 0|                    0|                            0|                            0|                               1|                     0|\n",
            "|4818|         1|             64|             80.3|    0|      1|          0|           1|                       0|              1|           0|                1|             0|      0|              0|           0|           0|                   1|           0|                       0|                 1|                    0|                            0|                            1|                               0|                     0|\n",
            "|7554|         0|              1|50.74303124820026|    1|      0|          0|           1|                       0|              0|           1|                0|             0|      0|              0|           0|           1|                   0|           0|                       1|                 0|                    0|                            0|                            0|                               1|                     0|\n",
            "|1342|         0|              8|             20.0|    0|      0|          0|           1|                       0|              0|           0|                0|             0|      0|              0|           0|           0|                   0|           1|                       0|                 0|                    1|                            0|                            0|                               0|                     1|\n",
            "|5300|         0|              1|            80.05|    1|      1|          1|           1|                       0|              0|           0|                0|             0|      1|              0|           1|           0|                   1|           0|                       1|                 0|                    0|                            0|                            0|                               0|                     1|\n",
            "+----+----------+---------------+-----------------+-----+-------+-----------+------------+------------------------+---------------+------------+-----------------+--------------+-------+---------------+------------+------------+--------------------+------------+------------------------+------------------+---------------------+-----------------------------+-----------------------------+--------------------------------+----------------------+\n",
            "only showing top 20 rows\n",
            "\n"
          ]
        }
      ]
    },
    {
      "cell_type": "code",
      "source": [
        "dataset = dataset\\\n",
        "    .join(Internet, 'id', how='inner')\\\n",
        "    .join(TipoContrato, 'id', how='inner')\\\n",
        "    .join(MetodoPagamento, 'id', how='inner')\\\n",
        "    .select(\n",
        "        '*',\n",
        "        f.col('DSL').alias('Internet_DSL'),\n",
        "        f.col('FibraOptica').alias('Internet_FibraOptica'),\n",
        "        f.col('Nao').alias('Internet_Nao'),\n",
        "        f.col('Mensalmente').alias('TipoContrato_Mensalmente'),\n",
        "        f.col('UmAno').alias('TipoContrato_UmAno'),\n",
        "        f.col('DoisAnos').alias('TipoContrato_DoisAnos'),\n",
        "        f.col('DebitoEmConta').alias('MetodoPagamento_DebitoEmConta'),\n",
        "        f.col('CartaoCredito').alias('MetodoPagamento_CartaoCredito'),\n",
        "        f.col('BoletoEletronico').alias('MetodoPagamento_BoletoEletronico'),\n",
        "        f.col('Boleto').alias('MetodoPagamento_Boleto')\n",
        "    ).drop(\n",
        "        'Internet', 'TipoContrato', 'MetodoPagamento', 'DSL',\n",
        "        'FibraOptica', 'Nao', 'Mensalmente', 'UmAno', 'DoisAnos',\n",
        "        'DebitoEmConta', 'CartaoCredito', 'BoletoEletronico', 'Boleto'\n",
        "    )"
      ],
      "metadata": {
        "id": "D58P834Tzd99"
      },
      "execution_count": 21,
      "outputs": []
    },
    {
      "cell_type": "code",
      "source": [
        "dataset.show()"
      ],
      "metadata": {
        "id": "Z5cSmXRCvmEC",
        "colab": {
          "base_uri": "https://localhost:8080/"
        },
        "outputId": "16609790-c95e-489b-eb72-1a4bfaedcf10"
      },
      "execution_count": 22,
      "outputs": [
        {
          "output_type": "stream",
          "name": "stdout",
          "text": [
            "+----+----------+---------------+-----------------+-----+-------+-----------+------------+------------------------+---------------+------------+-----------------+--------------+-------+---------------+------------+------------+--------------------+------------+------------------------+------------------+---------------------+-----------------------------+-----------------------------+--------------------------------+----------------------+\n",
            "|  id|Mais65anos|MesesDeContrato|    MesesCobrados|Churn|Conjuge|Dependentes|TelefoneFixo|MaisDeUmaLinhaTelefonica|SegurancaOnline|BackupOnline|SeguroDispositivo|SuporteTecnico|TVaCabo|StreamingFilmes|ContaCorreio|Internet_DSL|Internet_FibraOptica|Internet_Nao|TipoContrato_Mensalmente|TipoContrato_UmAno|TipoContrato_DoisAnos|MetodoPagamento_DebitoEmConta|MetodoPagamento_CartaoCredito|MetodoPagamento_BoletoEletronico|MetodoPagamento_Boleto|\n",
            "+----+----------+---------------+-----------------+-----+-------+-----------+------------+------------------------+---------------+------------+-----------------+--------------+-------+---------------+------------+------------+--------------------+------------+------------------------+------------------+---------------------+-----------------------------+-----------------------------+--------------------------------+----------------------+\n",
            "|7982|         0|              1|45.30540797610398|    1|      0|          0|           0|                       0|              0|           0|                0|             0|      1|              1|           1|           1|                   0|           0|                       1|                 0|                    0|                            0|                            0|                               1|                     0|\n",
            "|9465|         0|             60|103.6142230120257|    1|      1|          0|           1|                       1|              0|           1|                1|             0|      1|              1|           1|           0|                   1|           0|                       1|                 0|                    0|                            0|                            0|                               1|                     0|\n",
            "|2122|         0|             12|            75.85|    0|      0|          0|           1|                       1|              0|           0|                0|             1|      1|              1|           1|           1|                   0|           0|                       0|                 1|                    0|                            0|                            0|                               0|                     1|\n",
            "|3997|         0|             69|            61.45|    0|      1|          0|           1|                       0|              0|           1|                0|             0|      0|              1|           1|           1|                   0|           0|                       0|                 0|                    1|                            0|                            1|                               0|                     0|\n",
            "|6654|         0|              7|             86.5|    1|      1|          0|           1|                       1|              0|           0|                0|             0|      1|              0|           1|           0|                   1|           0|                       1|                 0|                    0|                            0|                            0|                               1|                     0|\n",
            "|7880|         0|             14|85.03742670311915|    1|      0|          0|           1|                       1|              0|           0|                0|             0|      0|              1|           1|           0|                   1|           0|                       1|                 0|                    0|                            0|                            0|                               1|                     0|\n",
            "|4519|         0|             57|            109.4|    0|      1|          0|           1|                       1|              0|           1|                1|             1|      1|              1|           1|           0|                   1|           0|                       0|                 1|                    0|                            1|                            0|                               0|                     0|\n",
            "|6466|         0|             18|            74.15|    0|      0|          0|           1|                       1|              0|           0|                0|             0|      0|              0|           0|           0|                   1|           0|                       1|                 0|                    0|                            0|                            0|                               0|                     1|\n",
            "| 496|         0|             28|             60.9|    0|      1|          0|           1|                       0|              1|           1|                0|             1|      0|              0|           0|           1|                   0|           0|                       1|                 0|                    0|                            0|                            0|                               0|                     1|\n",
            "|7833|         0|             46| 80.8824189403559|    1|      1|          0|           1|                       0|              0|           0|                0|             0|      0|              1|           1|           0|                   1|           0|                       1|                 0|                    0|                            0|                            0|                               1|                     0|\n",
            "|1591|         0|             17|             21.1|    0|      0|          0|           1|                       0|              0|           0|                0|             0|      0|              0|           0|           0|                   0|           1|                       1|                 0|                    0|                            0|                            1|                               0|                     0|\n",
            "|2866|         0|             12|             84.6|    0|      0|          0|           1|                       0|              0|           1|                0|             0|      0|              1|           1|           0|                   1|           0|                       1|                 0|                    0|                            0|                            0|                               1|                     0|\n",
            "|8592|         0|              5|82.71735660557214|    1|      1|          0|           1|                       1|              0|           0|                0|             0|      1|              0|           1|           0|                   1|           0|                       1|                 0|                    0|                            0|                            0|                               1|                     0|\n",
            "|1829|         0|              8|            74.85|    0|      0|          0|           1|                       1|              0|           0|                0|             0|      0|              0|           1|           0|                   1|           0|                       1|                 0|                    0|                            0|                            0|                               1|                     0|\n",
            "| 463|         0|              7|             99.8|    1|      0|          0|           1|                       1|              0|           1|                0|             0|      1|              1|           1|           0|                   1|           0|                       1|                 0|                    0|                            0|                            0|                               1|                     0|\n",
            "|4900|         1|             37|             85.7|    1|      1|          0|           1|                       1|              0|           0|                0|             0|      1|              0|           1|           0|                   1|           0|                       1|                 0|                    0|                            0|                            0|                               1|                     0|\n",
            "|4818|         1|             64|             80.3|    0|      1|          0|           1|                       0|              1|           0|                1|             0|      0|              0|           0|           0|                   1|           0|                       0|                 1|                    0|                            0|                            1|                               0|                     0|\n",
            "|7554|         0|              1|50.74303124820026|    1|      0|          0|           1|                       0|              0|           1|                0|             0|      0|              0|           0|           1|                   0|           0|                       1|                 0|                    0|                            0|                            0|                               1|                     0|\n",
            "|1342|         0|              8|             20.0|    0|      0|          0|           1|                       0|              0|           0|                0|             0|      0|              0|           0|           0|                   0|           1|                       0|                 0|                    1|                            0|                            0|                               0|                     1|\n",
            "|5300|         0|              1|            80.05|    1|      1|          1|           1|                       0|              0|           0|                0|             0|      1|              0|           1|           0|                   1|           0|                       1|                 0|                    0|                            0|                            0|                               0|                     1|\n",
            "+----+----------+---------------+-----------------+-----+-------+-----------+------------+------------------------+---------------+------------+-----------------+--------------+-------+---------------+------------+------------+--------------------+------------+------------------------+------------------+---------------------+-----------------------------+-----------------------------+--------------------------------+----------------------+\n",
            "only showing top 20 rows\n",
            "\n"
          ]
        }
      ]
    },
    {
      "cell_type": "markdown",
      "source": [
        "Preparação dos dados"
      ],
      "metadata": {
        "id": "3cnBL2yHKZnG"
      }
    },
    {
      "cell_type": "code",
      "source": [
        "from pyspark.ml.feature import VectorAssembler"
      ],
      "metadata": {
        "id": "zFSSoSTYKY10"
      },
      "execution_count": 23,
      "outputs": []
    },
    {
      "cell_type": "code",
      "source": [
        "dataset = dataset.withColumnRenamed('Churn', 'label')"
      ],
      "metadata": {
        "id": "dTnCEhhZKYzC"
      },
      "execution_count": 24,
      "outputs": []
    },
    {
      "cell_type": "code",
      "source": [
        "x = dataset.columns\n",
        "x.remove('label')\n",
        "x.remove('id')"
      ],
      "metadata": {
        "id": "ihE4PcZ9KYwQ"
      },
      "execution_count": 25,
      "outputs": []
    },
    {
      "cell_type": "code",
      "source": [
        "assembler = VectorAssembler(inputCols=x, outputCol='features')"
      ],
      "metadata": {
        "id": "PiA1i__YKYto"
      },
      "execution_count": 26,
      "outputs": []
    },
    {
      "cell_type": "code",
      "source": [
        "dataset_prep = assembler.transform(dataset).select('features', 'label')"
      ],
      "metadata": {
        "id": "efKlYwS1KYqz"
      },
      "execution_count": 27,
      "outputs": []
    },
    {
      "cell_type": "code",
      "source": [
        "dataset_prep.show()"
      ],
      "metadata": {
        "id": "PeY-woLJKYoF",
        "colab": {
          "base_uri": "https://localhost:8080/"
        },
        "outputId": "47e44a7f-8efc-4d94-9866-3bb319fa4714"
      },
      "execution_count": 28,
      "outputs": [
        {
          "output_type": "stream",
          "name": "stdout",
          "text": [
            "+--------------------+-----+\n",
            "|            features|label|\n",
            "+--------------------+-----+\n",
            "|(24,[1,2,11,12,13...|    1|\n",
            "|(24,[1,2,3,5,6,8,...|    1|\n",
            "|(24,[1,2,5,6,10,1...|    0|\n",
            "|(24,[1,2,3,5,8,12...|    0|\n",
            "|(24,[1,2,3,5,6,11...|    1|\n",
            "|(24,[1,2,5,6,12,1...|    1|\n",
            "|(24,[1,2,3,5,6,8,...|    0|\n",
            "|(24,[1,2,5,6,15,1...|    0|\n",
            "|(24,[1,2,3,5,7,8,...|    0|\n",
            "|(24,[1,2,3,5,12,1...|    1|\n",
            "|(24,[1,2,5,16,17,...|    0|\n",
            "|(24,[1,2,5,8,12,1...|    0|\n",
            "|(24,[1,2,3,5,6,11...|    1|\n",
            "|(24,[1,2,5,6,13,1...|    0|\n",
            "|(24,[1,2,5,6,8,11...|    1|\n",
            "|(24,[0,1,2,3,5,6,...|    1|\n",
            "|(24,[0,1,2,3,5,7,...|    0|\n",
            "|(24,[1,2,5,8,14,1...|    1|\n",
            "|(24,[1,2,5,16,19,...|    0|\n",
            "|(24,[1,2,3,4,5,11...|    1|\n",
            "+--------------------+-----+\n",
            "only showing top 20 rows\n",
            "\n"
          ]
        }
      ]
    },
    {
      "cell_type": "code",
      "source": [
        "SEED = 101"
      ],
      "metadata": {
        "id": "F_rTQWi9jDiM"
      },
      "execution_count": 29,
      "outputs": []
    },
    {
      "cell_type": "code",
      "source": [
        "treino, teste = dataset_prep.randomSplit([0.7, 0.3], seed = SEED)"
      ],
      "metadata": {
        "id": "0EZJx1yqKYlL"
      },
      "execution_count": 30,
      "outputs": []
    },
    {
      "cell_type": "code",
      "source": [
        "treino.count()"
      ],
      "metadata": {
        "id": "LfI2JIBGKYiY",
        "colab": {
          "base_uri": "https://localhost:8080/"
        },
        "outputId": "ae62ce17-657a-468e-b36f-2a0b46be627c"
      },
      "execution_count": 31,
      "outputs": [
        {
          "output_type": "execute_result",
          "data": {
            "text/plain": [
              "7206"
            ]
          },
          "metadata": {},
          "execution_count": 31
        }
      ]
    },
    {
      "cell_type": "code",
      "source": [
        "teste.count()"
      ],
      "metadata": {
        "id": "6EYUfyK2KYfk",
        "colab": {
          "base_uri": "https://localhost:8080/"
        },
        "outputId": "1f3bab6c-53c7-435f-fc3f-e21ef489f049"
      },
      "execution_count": 32,
      "outputs": [
        {
          "output_type": "execute_result",
          "data": {
            "text/plain": [
              "3142"
            ]
          },
          "metadata": {},
          "execution_count": 32
        }
      ]
    },
    {
      "cell_type": "code",
      "source": [
        "from pyspark.ml.classification import LogisticRegression"
      ],
      "metadata": {
        "id": "zgp-iQXAKYc2"
      },
      "execution_count": 33,
      "outputs": []
    },
    {
      "cell_type": "code",
      "source": [
        "lr = LogisticRegression()"
      ],
      "metadata": {
        "id": "TQLUaoKRKYZ9"
      },
      "execution_count": 34,
      "outputs": []
    },
    {
      "cell_type": "code",
      "source": [
        "modelo_lr = lr.fit(treino)"
      ],
      "metadata": {
        "id": "MBaHsKAAKYXT"
      },
      "execution_count": 35,
      "outputs": []
    },
    {
      "cell_type": "code",
      "source": [
        "previsoes_lr_teste = modelo_lr.transform(teste)"
      ],
      "metadata": {
        "id": "O3kATMfUKYUU"
      },
      "execution_count": 36,
      "outputs": []
    },
    {
      "cell_type": "code",
      "source": [
        "previsoes_lr_teste.show()"
      ],
      "metadata": {
        "colab": {
          "base_uri": "https://localhost:8080/"
        },
        "id": "nQ2q0PqNjuVv",
        "outputId": "04af7371-8516-4c57-b557-88f9434ca26a"
      },
      "execution_count": 37,
      "outputs": [
        {
          "output_type": "stream",
          "name": "stdout",
          "text": [
            "+--------------------+-----+--------------------+--------------------+----------+\n",
            "|            features|label|       rawPrediction|         probability|prediction|\n",
            "+--------------------+-----+--------------------+--------------------+----------+\n",
            "|(24,[0,1,2,3,4,5,...|    0|[3.02174179751551...|[0.95354674000282...|       0.0|\n",
            "|(24,[0,1,2,3,4,5,...|    0|[-0.0922192966076...|[0.47696150091605...|       1.0|\n",
            "|(24,[0,1,2,3,4,5,...|    1|[0.18744121711361...|[0.54672358463156...|       0.0|\n",
            "|(24,[0,1,2,3,4,5,...|    1|[0.91716501260103...|[0.71446410549163...|       0.0|\n",
            "|(24,[0,1,2,3,4,5,...|    0|[-0.1495904711610...|[0.46267196467801...|       1.0|\n",
            "|(24,[0,1,2,3,4,5,...|    0|[-0.1680594619286...|[0.45808374494006...|       1.0|\n",
            "|(24,[0,1,2,3,4,5,...|    0|[-1.4170949608173...|[0.19511740608882...|       1.0|\n",
            "|(24,[0,1,2,3,4,5,...|    0|[0.14194260698794...|[0.53542619200881...|       0.0|\n",
            "|(24,[0,1,2,3,4,5,...|    0|[0.67046644011599...|[0.66160759507905...|       0.0|\n",
            "|(24,[0,1,2,3,4,5,...|    0|[1.46841036244999...|[0.81281564870727...|       0.0|\n",
            "|(24,[0,1,2,3,4,5,...|    1|[-0.2187083605333...|[0.44553982138394...|       1.0|\n",
            "|(24,[0,1,2,3,4,5,...|    1|[-1.0342537570067...|[0.26226025614667...|       1.0|\n",
            "|(24,[0,1,2,3,4,5,...|    0|[5.50017227754075...|[0.99593056056380...|       0.0|\n",
            "|(24,[0,1,2,3,4,8,...|    0|[0.78512618330368...|[0.68678387079939...|       0.0|\n",
            "|(24,[0,1,2,3,4,8,...|    0|[0.84647423373263...|[0.69982700991647...|       0.0|\n",
            "|(24,[0,1,2,3,4,8,...|    0|[2.71891428132878...|[0.93813354968549...|       0.0|\n",
            "|(24,[0,1,2,3,5,6,...|    0|[4.47635640497720...|[0.98875314765919...|       0.0|\n",
            "|(24,[0,1,2,3,5,6,...|    0|[1.61650336401316...|[0.83431233628064...|       0.0|\n",
            "|(24,[0,1,2,3,5,6,...|    0|[3.44539231448552...|[0.96909343212403...|       0.0|\n",
            "|(24,[0,1,2,3,5,6,...|    0|[3.42849251731228...|[0.96858322780664...|       0.0|\n",
            "+--------------------+-----+--------------------+--------------------+----------+\n",
            "only showing top 20 rows\n",
            "\n"
          ]
        }
      ]
    },
    {
      "cell_type": "markdown",
      "source": [
        "Métricas"
      ],
      "metadata": {
        "id": "3ttELim-k-KL"
      }
    },
    {
      "cell_type": "code",
      "source": [
        "resumo_lr_treino = modelo_lr.summary"
      ],
      "metadata": {
        "id": "sTXI3j3Xj0Ht"
      },
      "execution_count": 38,
      "outputs": []
    },
    {
      "cell_type": "code",
      "source": [
        "resumo_lr_treino.accuracy"
      ],
      "metadata": {
        "colab": {
          "base_uri": "https://localhost:8080/"
        },
        "id": "jMYgXZT6lKxf",
        "outputId": "7b5f79c5-d29d-4c27-ba19-1d62c81bd126"
      },
      "execution_count": 39,
      "outputs": [
        {
          "output_type": "execute_result",
          "data": {
            "text/plain": [
              "0.7849014709963918"
            ]
          },
          "metadata": {},
          "execution_count": 39
        }
      ]
    },
    {
      "cell_type": "code",
      "source": [
        "print(\"Acurácia: %f\" % resumo_lr_treino.accuracy)\n",
        "print(\"Precisão: %f\" % resumo_lr_treino.precisionByLabel[1])\n",
        "print(\"Recall: %f\" % resumo_lr_treino.recallByLabel[1])\n",
        "print(\"F1: %f\" % resumo_lr_treino.fMeasureByLabel()[1])"
      ],
      "metadata": {
        "colab": {
          "base_uri": "https://localhost:8080/"
        },
        "id": "kI3ADWZllC8l",
        "outputId": "1875cad8-af82-4bb3-f862-392de5e66816"
      },
      "execution_count": 40,
      "outputs": [
        {
          "output_type": "stream",
          "name": "stdout",
          "text": [
            "Acurácia: 0.784901\n",
            "Precisão: 0.770686\n",
            "Recall: 0.812517\n",
            "F1: 0.791049\n"
          ]
        }
      ]
    },
    {
      "cell_type": "code",
      "source": [
        "previsoes_lr_teste.select('label', 'prediction').where((f.col('label') == 1) & (f.col('prediction') == 1)).count()"
      ],
      "metadata": {
        "colab": {
          "base_uri": "https://localhost:8080/"
        },
        "id": "cRx7ZsxdlPbD",
        "outputId": "1deb1bc0-9ae3-4128-cceb-707fa5431fc4"
      },
      "execution_count": 41,
      "outputs": [
        {
          "output_type": "execute_result",
          "data": {
            "text/plain": [
              "1256"
            ]
          },
          "metadata": {},
          "execution_count": 41
        }
      ]
    },
    {
      "cell_type": "code",
      "source": [
        "tp = previsoes_lr_teste.select('label', 'prediction').where((f.col('label') == 1) & (f.col('prediction') == 1)).count()\n",
        "tn = previsoes_lr_teste.select('label', 'prediction').where((f.col('label') == 0) & (f.col('prediction') == 0)).count()\n",
        "fp = previsoes_lr_teste.select('label', 'prediction').where((f.col('label') == 0) & (f.col('prediction') == 1)).count()\n",
        "fn = previsoes_lr_teste.select('label', 'prediction').where((f.col('label') == 1) & (f.col('prediction') == 0)).count()\n",
        "print(tp, tn,fp, fn)"
      ],
      "metadata": {
        "colab": {
          "base_uri": "https://localhost:8080/"
        },
        "id": "OpmY1KWZllZ0",
        "outputId": "93b1a303-c01a-41b8-d47b-d24510093bb6"
      },
      "execution_count": 42,
      "outputs": [
        {
          "output_type": "stream",
          "name": "stdout",
          "text": [
            "1256 1179 400 307\n"
          ]
        }
      ]
    },
    {
      "cell_type": "code",
      "source": [
        "def calcula_mostra_matriz_confusao(df_transform_modelo, normalize=False, percentage=True):\n",
        "  tp = df_transform_modelo.select('label', 'prediction').where((f.col('label') == 1) & (f.col('prediction') == 1)).count()\n",
        "  tn = df_transform_modelo.select('label', 'prediction').where((f.col('label') == 0) & (f.col('prediction') == 0)).count()\n",
        "  fp = df_transform_modelo.select('label', 'prediction').where((f.col('label') == 0) & (f.col('prediction') == 1)).count()\n",
        "  fn = df_transform_modelo.select('label', 'prediction').where((f.col('label') == 1) & (f.col('prediction') == 0)).count()\n",
        "\n",
        "  valorP = 1\n",
        "  valorN = 1\n",
        "\n",
        "  if normalize:\n",
        "    valorP = tp + fn\n",
        "    valorN = fp + tn\n",
        "\n",
        "  if percentage and normalize:\n",
        "    valorP = valorP / 100\n",
        "    valorN = valorN / 100\n",
        "\n",
        "  print(' '*20, 'Previsto')\n",
        "  print(' '*15, 'Churn', ' '*5 ,'Não-Churn')\n",
        "  print(' '*4, 'Churn', ' '*6, int(tp/valorP), ' '*7, int(fn/valorP))\n",
        "  print('Real')\n",
        "  print(' '*4, 'Não-Churn', ' '*2, int(fp/valorN), ' '*7, int(tn/valorN))"
      ],
      "metadata": {
        "id": "y7ijf4DcmHd7"
      },
      "execution_count": 43,
      "outputs": []
    },
    {
      "cell_type": "code",
      "source": [
        "calcula_mostra_matriz_confusao(previsoes_lr_teste, normalize= False)"
      ],
      "metadata": {
        "colab": {
          "base_uri": "https://localhost:8080/"
        },
        "id": "rUZGsY8UmaaP",
        "outputId": "58e606f3-2da9-402e-e373-14aa9a9d068d"
      },
      "execution_count": 44,
      "outputs": [
        {
          "output_type": "stream",
          "name": "stdout",
          "text": [
            "                     Previsto\n",
            "                Churn       Não-Churn\n",
            "     Churn        1256         307\n",
            "Real\n",
            "     Não-Churn    400         1179\n"
          ]
        }
      ]
    },
    {
      "cell_type": "markdown",
      "source": [
        "Árvore de Decisão"
      ],
      "metadata": {
        "id": "cV8nZ570f24I"
      }
    },
    {
      "cell_type": "code",
      "source": [
        "from pyspark.ml.classification import DecisionTreeClassifier"
      ],
      "metadata": {
        "id": "M7lWbG78mlVm"
      },
      "execution_count": 45,
      "outputs": []
    },
    {
      "cell_type": "code",
      "source": [
        "dtc = DecisionTreeClassifier(seed=SEED)"
      ],
      "metadata": {
        "id": "F1JoLGz2h2pt"
      },
      "execution_count": 46,
      "outputs": []
    },
    {
      "cell_type": "code",
      "source": [
        "modelo_dtc = dtc.fit(treino)"
      ],
      "metadata": {
        "id": "-hTZbYtnh8hq"
      },
      "execution_count": 47,
      "outputs": []
    },
    {
      "cell_type": "code",
      "source": [
        "previsoes_dtc_treino = modelo_dtc.transform(treino)"
      ],
      "metadata": {
        "id": "83tUkMywiAMZ"
      },
      "execution_count": 51,
      "outputs": []
    },
    {
      "cell_type": "code",
      "source": [
        "previsoes_dtc_treino.show()"
      ],
      "metadata": {
        "colab": {
          "base_uri": "https://localhost:8080/"
        },
        "id": "3yuzaNlliK0J",
        "outputId": "8dd4f41c-e985-4fe6-cf07-4db786aeaac0"
      },
      "execution_count": 52,
      "outputs": [
        {
          "output_type": "stream",
          "name": "stdout",
          "text": [
            "+--------------------+-----+--------------+--------------------+----------+\n",
            "|            features|label| rawPrediction|         probability|prediction|\n",
            "+--------------------+-----+--------------+--------------------+----------+\n",
            "|(24,[0,1,2,3,4,5,...|    0|[2056.0,334.0]|[0.86025104602510...|       0.0|\n",
            "|(24,[0,1,2,3,4,5,...|    0|[2056.0,334.0]|[0.86025104602510...|       0.0|\n",
            "|(24,[0,1,2,3,4,5,...|    0|    [22.0,3.0]|         [0.88,0.12]|       0.0|\n",
            "|(24,[0,1,2,3,4,5,...|    0|    [22.0,3.0]|         [0.88,0.12]|       0.0|\n",
            "|(24,[0,1,2,3,4,5,...|    0|    [22.0,3.0]|         [0.88,0.12]|       0.0|\n",
            "|(24,[0,1,2,3,4,5,...|    1|[331.0,1951.0]|[0.14504820333041...|       1.0|\n",
            "|(24,[0,1,2,3,4,5,...|    0| [239.0,205.0]|[0.53828828828828...|       0.0|\n",
            "|(24,[0,1,2,3,4,5,...|    1|[331.0,1951.0]|[0.14504820333041...|       1.0|\n",
            "|(24,[0,1,2,3,4,5,...|    0|[331.0,1951.0]|[0.14504820333041...|       1.0|\n",
            "|(24,[0,1,2,3,4,5,...|    0|[331.0,1951.0]|[0.14504820333041...|       1.0|\n",
            "|(24,[0,1,2,3,4,5,...|    0|[331.0,1951.0]|[0.14504820333041...|       1.0|\n",
            "|(24,[0,1,2,3,4,5,...|    0|[2056.0,334.0]|[0.86025104602510...|       0.0|\n",
            "|(24,[0,1,2,3,4,5,...|    0|[331.0,1951.0]|[0.14504820333041...|       1.0|\n",
            "|(24,[0,1,2,3,4,5,...|    0|[2056.0,334.0]|[0.86025104602510...|       0.0|\n",
            "|(24,[0,1,2,3,4,5,...|    0| [239.0,205.0]|[0.53828828828828...|       0.0|\n",
            "|(24,[0,1,2,3,4,5,...|    1| [239.0,205.0]|[0.53828828828828...|       0.0|\n",
            "|(24,[0,1,2,3,4,5,...|    0|[2056.0,334.0]|[0.86025104602510...|       0.0|\n",
            "|(24,[0,1,2,3,4,5,...|    0|  [51.0,141.0]| [0.265625,0.734375]|       1.0|\n",
            "|(24,[0,1,2,3,4,5,...|    0|[2056.0,334.0]|[0.86025104602510...|       0.0|\n",
            "|(24,[0,1,2,3,4,5,...|    0|[2056.0,334.0]|[0.86025104602510...|       0.0|\n",
            "+--------------------+-----+--------------+--------------------+----------+\n",
            "only showing top 20 rows\n",
            "\n"
          ]
        }
      ]
    },
    {
      "cell_type": "markdown",
      "source": [
        "Métricas DTC"
      ],
      "metadata": {
        "id": "ArafqjhfiyDM"
      }
    },
    {
      "cell_type": "code",
      "source": [
        "from pyspark.ml.evaluation import MulticlassClassificationEvaluator"
      ],
      "metadata": {
        "id": "RHPyLe4miUvx"
      },
      "execution_count": 53,
      "outputs": []
    },
    {
      "cell_type": "code",
      "source": [
        "evaluator = MulticlassClassificationEvaluator()"
      ],
      "metadata": {
        "id": "lwkgdwENjBvJ"
      },
      "execution_count": 54,
      "outputs": []
    },
    {
      "cell_type": "code",
      "source": [
        "evaluator.evaluate(previsoes_dtc_treino, {evaluator.metricName: 'accuracy'})"
      ],
      "metadata": {
        "colab": {
          "base_uri": "https://localhost:8080/"
        },
        "id": "cvUXCOPvjIsw",
        "outputId": "ba2a8a1d-aab4-49aa-8003-3af10f720cfe"
      },
      "execution_count": 56,
      "outputs": [
        {
          "output_type": "execute_result",
          "data": {
            "text/plain": [
              "0.7917013599777962"
            ]
          },
          "metadata": {},
          "execution_count": 56
        }
      ]
    },
    {
      "cell_type": "code",
      "source": [
        "print(\"Acurácia: %f\" % evaluator.evaluate(previsoes_dtc_treino, {evaluator.metricName: \"accuracy\"}))\n",
        "print(\"Precisão: %f\" % evaluator.evaluate(previsoes_dtc_treino, {evaluator.metricName: \"precisionByLabel\", evaluator.metricLabel: 1}))\n",
        "print(\"Recall: %f\" % evaluator.evaluate(previsoes_dtc_treino, {evaluator.metricName: \"recallByLabel\", evaluator.metricLabel: 1}))\n",
        "print(\"F1: %f\" % evaluator.evaluate(previsoes_dtc_treino, {evaluator.metricName: \"fMeasureByLabel\", evaluator.metricLabel: 1}))"
      ],
      "metadata": {
        "colab": {
          "base_uri": "https://localhost:8080/"
        },
        "id": "cEyV_nx6jLcT",
        "outputId": "c5b612bf-a729-4c71-cd24-586a33833419"
      },
      "execution_count": 57,
      "outputs": [
        {
          "output_type": "stream",
          "name": "stdout",
          "text": [
            "Acurácia: 0.791701\n",
            "Precisão: 0.805090\n",
            "Recall: 0.770978\n",
            "F1: 0.787664\n"
          ]
        }
      ]
    },
    {
      "cell_type": "code",
      "source": [
        "previsoes_dtc_teste = modelo_dtc.transform(teste)"
      ],
      "metadata": {
        "id": "slOm3xsCjnwg"
      },
      "execution_count": 58,
      "outputs": []
    },
    {
      "cell_type": "code",
      "source": [
        "previsoes_dtc_teste.show()"
      ],
      "metadata": {
        "colab": {
          "base_uri": "https://localhost:8080/"
        },
        "id": "DzRTf6gij8Z4",
        "outputId": "bd233663-56c1-43c4-9faa-300cfc1d1e4a"
      },
      "execution_count": 59,
      "outputs": [
        {
          "output_type": "stream",
          "name": "stdout",
          "text": [
            "+--------------------+-----+--------------+--------------------+----------+\n",
            "|            features|label| rawPrediction|         probability|prediction|\n",
            "+--------------------+-----+--------------+--------------------+----------+\n",
            "|(24,[0,1,2,3,4,5,...|    0|[2056.0,334.0]|[0.86025104602510...|       0.0|\n",
            "|(24,[0,1,2,3,4,5,...|    0|  [62.0,128.0]|[0.32631578947368...|       1.0|\n",
            "|(24,[0,1,2,3,4,5,...|    1| [239.0,205.0]|[0.53828828828828...|       0.0|\n",
            "|(24,[0,1,2,3,4,5,...|    1| [239.0,205.0]|[0.53828828828828...|       0.0|\n",
            "|(24,[0,1,2,3,4,5,...|    0| [239.0,205.0]|[0.53828828828828...|       0.0|\n",
            "|(24,[0,1,2,3,4,5,...|    0|  [51.0,141.0]| [0.265625,0.734375]|       1.0|\n",
            "|(24,[0,1,2,3,4,5,...|    0|[331.0,1951.0]|[0.14504820333041...|       1.0|\n",
            "|(24,[0,1,2,3,4,5,...|    0| [239.0,205.0]|[0.53828828828828...|       0.0|\n",
            "|(24,[0,1,2,3,4,5,...|    0|  [63.0,118.0]|[0.34806629834254...|       1.0|\n",
            "|(24,[0,1,2,3,4,5,...|    0|[2056.0,334.0]|[0.86025104602510...|       0.0|\n",
            "|(24,[0,1,2,3,4,5,...|    1|  [63.0,118.0]|[0.34806629834254...|       1.0|\n",
            "|(24,[0,1,2,3,4,5,...|    1|[331.0,1951.0]|[0.14504820333041...|       1.0|\n",
            "|(24,[0,1,2,3,4,5,...|    0|[2056.0,334.0]|[0.86025104602510...|       0.0|\n",
            "|(24,[0,1,2,3,4,8,...|    0| [445.0,181.0]|[0.71086261980830...|       0.0|\n",
            "|(24,[0,1,2,3,4,8,...|    0|[2056.0,334.0]|[0.86025104602510...|       0.0|\n",
            "|(24,[0,1,2,3,4,8,...|    0|[2056.0,334.0]|[0.86025104602510...|       0.0|\n",
            "|(24,[0,1,2,3,5,6,...|    0|[2056.0,334.0]|[0.86025104602510...|       0.0|\n",
            "|(24,[0,1,2,3,5,6,...|    0| [239.0,205.0]|[0.53828828828828...|       0.0|\n",
            "|(24,[0,1,2,3,5,6,...|    0|[2056.0,334.0]|[0.86025104602510...|       0.0|\n",
            "|(24,[0,1,2,3,5,6,...|    0|[2056.0,334.0]|[0.86025104602510...|       0.0|\n",
            "+--------------------+-----+--------------+--------------------+----------+\n",
            "only showing top 20 rows\n",
            "\n"
          ]
        }
      ]
    },
    {
      "cell_type": "code",
      "source": [
        "evaluator.evaluate(previsoes_dtc_teste,{evaluator.metricName:'accuracy'})"
      ],
      "metadata": {
        "colab": {
          "base_uri": "https://localhost:8080/"
        },
        "id": "-1oaO4dMj-sR",
        "outputId": "d8dce81a-ef9d-436b-e98a-461019466957"
      },
      "execution_count": 60,
      "outputs": [
        {
          "output_type": "execute_result",
          "data": {
            "text/plain": [
              "0.7714831317632082"
            ]
          },
          "metadata": {},
          "execution_count": 60
        }
      ]
    },
    {
      "cell_type": "code",
      "source": [
        "print('Decision Tree Classifier')\n",
        "print(\"=\"*40)\n",
        "print(\"Dados de Treino\")\n",
        "print(\"=\"*40)\n",
        "print(\"Matriz de Confusão\")\n",
        "print(\"-\"*40)\n",
        "calcula_mostra_matriz_confusao(previsoes_dtc_treino, normalize=False)\n",
        "print(\"-\"*40)\n",
        "print(\"Métricas\")\n",
        "print(\"-\"*40)\n",
        "print(\"Acurácia: %f\" % evaluator.evaluate(previsoes_dtc_treino, {evaluator.metricName: \"accuracy\"}))\n",
        "print(\"Precisão: %f\" % evaluator.evaluate(previsoes_dtc_treino, {evaluator.metricName: \"precisionByLabel\", evaluator.metricLabel: 1}))\n",
        "print(\"Recall: %f\" % evaluator.evaluate(previsoes_dtc_treino, {evaluator.metricName: \"recallByLabel\", evaluator.metricLabel: 1}))\n",
        "print(\"F1: %f\" % evaluator.evaluate(previsoes_dtc_treino, {evaluator.metricName: \"fMeasureByLabel\", evaluator.metricLabel: 1}))\n",
        "print(\"\")\n",
        "print(\"=\"*40)\n",
        "print(\"Dados de Teste\")\n",
        "print(\"=\"*40)\n",
        "print(\"Matriz de Confusão\")\n",
        "print(\"-\"*40)\n",
        "calcula_mostra_matriz_confusao(previsoes_dtc_teste, normalize=False)\n",
        "print(\"-\"*40)\n",
        "print(\"Métricas\")\n",
        "print(\"-\"*40)\n",
        "print(\"Acurácia: %f\" % evaluator.evaluate(previsoes_dtc_teste, {evaluator.metricName: \"accuracy\"}))\n",
        "print(\"Precisão: %f\" % evaluator.evaluate(previsoes_dtc_teste, {evaluator.metricName: \"precisionByLabel\", evaluator.metricLabel: 1}))\n",
        "print(\"Recall: %f\" % evaluator.evaluate(previsoes_dtc_teste, {evaluator.metricName: \"recallByLabel\", evaluator.metricLabel: 1}))\n",
        "print(\"F1: %f\" % evaluator.evaluate(previsoes_dtc_teste, {evaluator.metricName: \"fMeasureByLabel\", evaluator.metricLabel: 1}))"
      ],
      "metadata": {
        "colab": {
          "base_uri": "https://localhost:8080/"
        },
        "id": "YRTEccx-kKYa",
        "outputId": "e0a1550a-b605-4baf-f311-52050246b021"
      },
      "execution_count": 61,
      "outputs": [
        {
          "output_type": "stream",
          "name": "stdout",
          "text": [
            "Decision Tree Classifier\n",
            "========================================\n",
            "Dados de Treino\n",
            "========================================\n",
            "Matriz de Confusão\n",
            "----------------------------------------\n",
            "                     Previsto\n",
            "                Churn       Não-Churn\n",
            "     Churn        2784         827\n",
            "Real\n",
            "     Não-Churn    674         2921\n",
            "----------------------------------------\n",
            "Métricas\n",
            "----------------------------------------\n",
            "Acurácia: 0.791701\n",
            "Precisão: 0.805090\n",
            "Recall: 0.770978\n",
            "F1: 0.787664\n",
            "\n",
            "========================================\n",
            "Dados de Teste\n",
            "========================================\n",
            "Matriz de Confusão\n",
            "----------------------------------------\n",
            "                     Previsto\n",
            "                Churn       Não-Churn\n",
            "     Churn        1181         382\n",
            "Real\n",
            "     Não-Churn    336         1243\n",
            "----------------------------------------\n",
            "Métricas\n",
            "----------------------------------------\n",
            "Acurácia: 0.771483\n",
            "Precisão: 0.778510\n",
            "Recall: 0.755598\n",
            "F1: 0.766883\n"
          ]
        }
      ]
    },
    {
      "cell_type": "markdown",
      "source": [
        "##Random Forest Classifier"
      ],
      "metadata": {
        "id": "2JjKVAHUlc8T"
      }
    },
    {
      "cell_type": "code",
      "source": [
        "from pyspark.ml.classification import RandomForestClassifier"
      ],
      "metadata": {
        "id": "dIOrW75NkR95"
      },
      "execution_count": 62,
      "outputs": []
    },
    {
      "cell_type": "code",
      "source": [
        "rfc = RandomForestClassifier(seed=SEED)"
      ],
      "metadata": {
        "id": "UeLRtqgrmunp"
      },
      "execution_count": 64,
      "outputs": []
    },
    {
      "cell_type": "code",
      "source": [
        "modelo_rfc = rfc.fit(treino)"
      ],
      "metadata": {
        "id": "p9clsoa3mzv7"
      },
      "execution_count": 65,
      "outputs": []
    },
    {
      "cell_type": "code",
      "source": [
        "previsoes_rfc_treino = modelo_rfc.transform(treino)"
      ],
      "metadata": {
        "id": "v4_CLdn_m_mh"
      },
      "execution_count": 67,
      "outputs": []
    },
    {
      "cell_type": "code",
      "source": [
        "previsoes_rfc_treino.show()"
      ],
      "metadata": {
        "colab": {
          "base_uri": "https://localhost:8080/"
        },
        "id": "s4kfmsaLnGxN",
        "outputId": "b02e9dfd-e2d6-49de-9fa5-26e216bbf499"
      },
      "execution_count": 68,
      "outputs": [
        {
          "output_type": "stream",
          "name": "stdout",
          "text": [
            "+--------------------+-----+--------------------+--------------------+----------+\n",
            "|            features|label|       rawPrediction|         probability|prediction|\n",
            "+--------------------+-----+--------------------+--------------------+----------+\n",
            "|(24,[0,1,2,3,4,5,...|    0|[15.0052773466704...|[0.75026386733352...|       0.0|\n",
            "|(24,[0,1,2,3,4,5,...|    0|[16.9295040273249...|[0.84647520136624...|       0.0|\n",
            "|(24,[0,1,2,3,4,5,...|    0|[9.13052909106814...|[0.45652645455340...|       1.0|\n",
            "|(24,[0,1,2,3,4,5,...|    0|[9.13052909106814...|[0.45652645455340...|       1.0|\n",
            "|(24,[0,1,2,3,4,5,...|    0|[8.59288938528764...|[0.42964446926438...|       1.0|\n",
            "|(24,[0,1,2,3,4,5,...|    1|[5.59647122885698...|[0.27982356144284...|       1.0|\n",
            "|(24,[0,1,2,3,4,5,...|    0|[9.33276328267787...|[0.46663816413389...|       1.0|\n",
            "|(24,[0,1,2,3,4,5,...|    1|[5.21616013157118...|[0.26080800657855...|       1.0|\n",
            "|(24,[0,1,2,3,4,5,...|    0|[5.45640255581361...|[0.27282012779068...|       1.0|\n",
            "|(24,[0,1,2,3,4,5,...|    0|[4.60442649894724...|[0.23022132494736...|       1.0|\n",
            "|(24,[0,1,2,3,4,5,...|    0|[5.67535692640751...|[0.28376784632037...|       1.0|\n",
            "|(24,[0,1,2,3,4,5,...|    0|[12.0200554644482...|[0.60100277322241...|       0.0|\n",
            "|(24,[0,1,2,3,4,5,...|    0|[4.78964359060310...|[0.23948217953015...|       1.0|\n",
            "|(24,[0,1,2,3,4,5,...|    0|[16.0034864403362...|[0.80017432201681...|       0.0|\n",
            "|(24,[0,1,2,3,4,5,...|    0|[9.33276328267787...|[0.46663816413389...|       1.0|\n",
            "|(24,[0,1,2,3,4,5,...|    1|[7.72923092350890...|[0.38646154617544...|       1.0|\n",
            "|(24,[0,1,2,3,4,5,...|    0|[15.9609332488468...|[0.79804666244234...|       0.0|\n",
            "|(24,[0,1,2,3,4,5,...|    0|[7.08160776437640...|[0.35408038821882...|       1.0|\n",
            "|(24,[0,1,2,3,4,5,...|    0|[18.2497256374866...|[0.91248628187433...|       0.0|\n",
            "|(24,[0,1,2,3,4,5,...|    0|[14.4759069267546...|[0.72379534633773...|       0.0|\n",
            "+--------------------+-----+--------------------+--------------------+----------+\n",
            "only showing top 20 rows\n",
            "\n"
          ]
        }
      ]
    },
    {
      "cell_type": "code",
      "source": [
        "previsoes_rfc_teste = modelo_rfc.transform(teste)"
      ],
      "metadata": {
        "id": "7pxjAQHfnN-9"
      },
      "execution_count": 69,
      "outputs": []
    },
    {
      "cell_type": "code",
      "source": [
        "previsoes_rfc_teste.show()"
      ],
      "metadata": {
        "colab": {
          "base_uri": "https://localhost:8080/"
        },
        "id": "nG8DlCYfn1nY",
        "outputId": "8ea0cca7-894e-4799-bbfe-effe34ecf535"
      },
      "execution_count": 70,
      "outputs": [
        {
          "output_type": "stream",
          "name": "stdout",
          "text": [
            "+--------------------+-----+--------------------+--------------------+----------+\n",
            "|            features|label|       rawPrediction|         probability|prediction|\n",
            "+--------------------+-----+--------------------+--------------------+----------+\n",
            "|(24,[0,1,2,3,4,5,...|    0|[16.7433871675615...|[0.83716935837807...|       0.0|\n",
            "|(24,[0,1,2,3,4,5,...|    0|[7.27313214599648...|[0.36365660729982...|       1.0|\n",
            "|(24,[0,1,2,3,4,5,...|    1|[7.46885072161585...|[0.37344253608079...|       1.0|\n",
            "|(24,[0,1,2,3,4,5,...|    1|[9.33276328267787...|[0.46663816413389...|       1.0|\n",
            "|(24,[0,1,2,3,4,5,...|    0|[7.79829004739264...|[0.38991450236963...|       1.0|\n",
            "|(24,[0,1,2,3,4,5,...|    0|[7.13263407834549...|[0.35663170391727...|       1.0|\n",
            "|(24,[0,1,2,3,4,5,...|    0|[4.45872635511159...|[0.22293631775557...|       1.0|\n",
            "|(24,[0,1,2,3,4,5,...|    0|[7.84691519125130...|[0.39234575956256...|       1.0|\n",
            "|(24,[0,1,2,3,4,5,...|    0|[9.94796150783366...|[0.49739807539168...|       1.0|\n",
            "|(24,[0,1,2,3,4,5,...|    0|[13.9419392354793...|[0.69709696177396...|       0.0|\n",
            "|(24,[0,1,2,3,4,5,...|    1|[5.91309232317621...|[0.29565461615881...|       1.0|\n",
            "|(24,[0,1,2,3,4,5,...|    1|[4.00056870239560...|[0.20002843511978...|       1.0|\n",
            "|(24,[0,1,2,3,4,5,...|    0|[18.3120509476018...|[0.91560254738009...|       0.0|\n",
            "|(24,[0,1,2,3,4,8,...|    0|[11.9244461164393...|[0.59622230582196...|       0.0|\n",
            "|(24,[0,1,2,3,4,8,...|    0|[15.3485289130138...|[0.76742644565069...|       0.0|\n",
            "|(24,[0,1,2,3,4,8,...|    0|[16.5284444417352...|[0.82642222208676...|       0.0|\n",
            "|(24,[0,1,2,3,5,6,...|    0|[18.0005759997679...|[0.90002879998839...|       0.0|\n",
            "|(24,[0,1,2,3,5,6,...|    0|[12.7577462101532...|[0.63788731050766...|       0.0|\n",
            "|(24,[0,1,2,3,5,6,...|    0|[17.3802234084668...|[0.86901117042334...|       0.0|\n",
            "|(24,[0,1,2,3,5,6,...|    0|[17.2590921858649...|[0.86295460929324...|       0.0|\n",
            "+--------------------+-----+--------------------+--------------------+----------+\n",
            "only showing top 20 rows\n",
            "\n"
          ]
        }
      ]
    },
    {
      "cell_type": "code",
      "source": [
        "print('Random Forest Classifier')\n",
        "print(\"=\"*40)\n",
        "print(\"Dados de Treino\")\n",
        "print(\"=\"*40)\n",
        "print(\"Matriz de Confusão\")\n",
        "print(\"-\"*40)\n",
        "calcula_mostra_matriz_confusao(previsoes_rfc_treino, normalize=False)\n",
        "print(\"-\"*40)\n",
        "print(\"Métricas\")\n",
        "print(\"-\"*40)\n",
        "print(\"Acurácia: %f\" % evaluator.evaluate(previsoes_rfc_treino, {evaluator.metricName: \"accuracy\"}))\n",
        "print(\"Precisão: %f\" % evaluator.evaluate(previsoes_rfc_treino, {evaluator.metricName: \"precisionByLabel\", evaluator.metricLabel: 1}))\n",
        "print(\"Recall: %f\" % evaluator.evaluate(previsoes_rfc_treino, {evaluator.metricName: \"recallByLabel\", evaluator.metricLabel: 1}))\n",
        "print(\"F1: %f\" % evaluator.evaluate(previsoes_rfc_treino, {evaluator.metricName: \"fMeasureByLabel\", evaluator.metricLabel: 1}))\n",
        "print(\"\")\n",
        "print(\"=\"*40)\n",
        "print(\"Dados de Teste\")\n",
        "print(\"=\"*40)\n",
        "print(\"Matriz de Confusão\")\n",
        "print(\"-\"*40)\n",
        "calcula_mostra_matriz_confusao(previsoes_rfc_teste, normalize=False)\n",
        "print(\"-\"*40)\n",
        "print(\"Métricas\")\n",
        "print(\"-\"*40)\n",
        "print(\"Acurácia: %f\" % evaluator.evaluate(previsoes_rfc_teste, {evaluator.metricName: \"accuracy\"}))\n",
        "print(\"Precisão: %f\" % evaluator.evaluate(previsoes_rfc_teste, {evaluator.metricName: \"precisionByLabel\", evaluator.metricLabel: 1}))\n",
        "print(\"Recall: %f\" % evaluator.evaluate(previsoes_rfc_teste, {evaluator.metricName: \"recallByLabel\", evaluator.metricLabel: 1}))\n",
        "print(\"F1: %f\" % evaluator.evaluate(previsoes_rfc_teste, {evaluator.metricName: \"fMeasureByLabel\", evaluator.metricLabel: 1}))"
      ],
      "metadata": {
        "colab": {
          "base_uri": "https://localhost:8080/"
        },
        "id": "W5sIxQfcn4Hw",
        "outputId": "b3489c43-9db9-4329-a1f3-90f8553043b7"
      },
      "execution_count": 71,
      "outputs": [
        {
          "output_type": "stream",
          "name": "stdout",
          "text": [
            "Random Forest Classifier\n",
            "========================================\n",
            "Dados de Treino\n",
            "========================================\n",
            "Matriz de Confusão\n",
            "----------------------------------------\n",
            "                     Previsto\n",
            "                Churn       Não-Churn\n",
            "     Churn        2950         661\n",
            "Real\n",
            "     Não-Churn    884         2711\n",
            "----------------------------------------\n",
            "Métricas\n",
            "----------------------------------------\n",
            "Acurácia: 0.785595\n",
            "Precisão: 0.769431\n",
            "Recall: 0.816948\n",
            "F1: 0.792478\n",
            "\n",
            "========================================\n",
            "Dados de Teste\n",
            "========================================\n",
            "Matriz de Confusão\n",
            "----------------------------------------\n",
            "                     Previsto\n",
            "                Churn       Não-Churn\n",
            "     Churn        1257         306\n",
            "Real\n",
            "     Não-Churn    416         1163\n",
            "----------------------------------------\n",
            "Métricas\n",
            "----------------------------------------\n",
            "Acurácia: 0.770210\n",
            "Precisão: 0.751345\n",
            "Recall: 0.804223\n",
            "F1: 0.776885\n"
          ]
        }
      ]
    },
    {
      "cell_type": "markdown",
      "source": [
        "##Técnicas de Otimização - Ajuste de Hiperparâmetros\n",
        "\n",
        "Árvore de Decisão com Cross Validation"
      ],
      "metadata": {
        "id": "Q2uYI24do_TF"
      }
    },
    {
      "cell_type": "code",
      "source": [
        "from pyspark.ml.tuning import CrossValidator, ParamGridBuilder"
      ],
      "metadata": {
        "id": "HfhfRG-Yn8mw"
      },
      "execution_count": 72,
      "outputs": []
    },
    {
      "cell_type": "code",
      "source": [
        "dtc = DecisionTreeClassifier(seed=SEED)"
      ],
      "metadata": {
        "id": "KnPS16b_sDwI"
      },
      "execution_count": 73,
      "outputs": []
    },
    {
      "cell_type": "code",
      "source": [
        "grid = ParamGridBuilder()\\\n",
        "  .addGrid(dtc.maxDepth, [2, 5, 10])\\\n",
        "  .addGrid(dtc.maxBins, [10, 32, 45])\\\n",
        "  .build()"
      ],
      "metadata": {
        "id": "8FPmTBMCsI0J"
      },
      "execution_count": 74,
      "outputs": []
    },
    {
      "cell_type": "code",
      "source": [
        "evaluator = MulticlassClassificationEvaluator()"
      ],
      "metadata": {
        "id": "htCpotJksuEJ"
      },
      "execution_count": 75,
      "outputs": []
    },
    {
      "cell_type": "code",
      "source": [
        "dtc_cv = CrossValidator(\n",
        "    estimator=dtc,\n",
        "    estimatorParamMaps=grid,\n",
        "    evaluator=evaluator,\n",
        "    numFolds=3,\n",
        "    seed=SEED\n",
        ")"
      ],
      "metadata": {
        "id": "TLHXPfL7s0GX"
      },
      "execution_count": 76,
      "outputs": []
    },
    {
      "cell_type": "code",
      "source": [
        "modelo_dtc_cv = dtc_cv.fit(treino)"
      ],
      "metadata": {
        "id": "YDg0gQ-YtPAZ"
      },
      "execution_count": 77,
      "outputs": []
    },
    {
      "cell_type": "code",
      "source": [
        "previsoes_dtc_cv_teste = modelo_dtc_cv.transform(teste)"
      ],
      "metadata": {
        "id": "c5h3KJ_JtdCJ"
      },
      "execution_count": 78,
      "outputs": []
    },
    {
      "cell_type": "code",
      "source": [
        "print('Decision Tree Classifier - Tuning')\n",
        "print(\"=\"*40)\n",
        "print(\"Dados de Teste\")\n",
        "print(\"=\"*40)\n",
        "print(\"Matriz de Confusão\")\n",
        "print(\"-\"*40)\n",
        "calcula_mostra_matriz_confusao(previsoes_dtc_cv_teste, normalize=False)\n",
        "print(\"-\"*40)\n",
        "print(\"Métricas\")\n",
        "print(\"-\"*40)\n",
        "print(\"Acurácia: %f\" % evaluator.evaluate(previsoes_dtc_cv_teste, {evaluator.metricName: \"accuracy\"}))\n",
        "print(\"Precisão: %f\" % evaluator.evaluate(previsoes_dtc_cv_teste, {evaluator.metricName: \"precisionByLabel\", evaluator.metricLabel: 1}))\n",
        "print(\"Recall: %f\" % evaluator.evaluate(previsoes_dtc_cv_teste, {evaluator.metricName: \"recallByLabel\", evaluator.metricLabel: 1}))\n",
        "print(\"F1: %f\" % evaluator.evaluate(previsoes_dtc_cv_teste, {evaluator.metricName: \"fMeasureByLabel\", evaluator.metricLabel: 1}))"
      ],
      "metadata": {
        "colab": {
          "base_uri": "https://localhost:8080/"
        },
        "id": "BmnAI05Qusn0",
        "outputId": "6c9db9a0-4b2c-483f-fb7f-a73b1e053581"
      },
      "execution_count": 79,
      "outputs": [
        {
          "output_type": "stream",
          "name": "stdout",
          "text": [
            "Decision Tree Classifier - Tuning\n",
            "========================================\n",
            "Dados de Teste\n",
            "========================================\n",
            "Matriz de Confusão\n",
            "----------------------------------------\n",
            "                     Previsto\n",
            "                Churn       Não-Churn\n",
            "     Churn        1319         244\n",
            "Real\n",
            "     Não-Churn    430         1149\n",
            "----------------------------------------\n",
            "Métricas\n",
            "----------------------------------------\n",
            "Acurácia: 0.785487\n",
            "Precisão: 0.754145\n",
            "Recall: 0.843890\n",
            "F1: 0.796498\n"
          ]
        }
      ]
    },
    {
      "cell_type": "code",
      "source": [
        "rfc = RandomForestClassifier(seed=SEED)"
      ],
      "metadata": {
        "id": "vAjbBr2mwRLf"
      },
      "execution_count": 81,
      "outputs": []
    },
    {
      "cell_type": "code",
      "source": [
        "grid = ParamGridBuilder()\\\n",
        "        .addGrid(rfc.maxDepth, [2, 5, 10])\\\n",
        "        .addGrid(rfc.maxBins, [10, 32, 45])\\\n",
        "        .addGrid(rfc.numTrees, [10, 20, 50])\\\n",
        "        .build()"
      ],
      "metadata": {
        "id": "l02mKLHtwUhF"
      },
      "execution_count": 82,
      "outputs": []
    },
    {
      "cell_type": "code",
      "source": [
        "evaluator = MulticlassClassificationEvaluator()"
      ],
      "metadata": {
        "id": "1RmBjF7WwW6O"
      },
      "execution_count": 83,
      "outputs": []
    },
    {
      "cell_type": "code",
      "source": [
        "rfc_cv = CrossValidator(\n",
        "    estimator=rfc,\n",
        "    estimatorParamMaps=grid,\n",
        "    evaluator=evaluator,\n",
        "    numFolds=3,\n",
        "    seed=SEED\n",
        ")"
      ],
      "metadata": {
        "id": "Cqw_1cRRwY46"
      },
      "execution_count": 84,
      "outputs": []
    },
    {
      "cell_type": "code",
      "source": [
        "modelo_rfc_cv = rfc_cv.fit(treino)"
      ],
      "metadata": {
        "id": "nODCPDJLwaXK"
      },
      "execution_count": null,
      "outputs": []
    },
    {
      "cell_type": "code",
      "source": [
        "previsoes_rfc_cv_teste = modelo_rfc_cv.transform(teste)"
      ],
      "metadata": {
        "id": "1CFDvgoXwb1m"
      },
      "execution_count": null,
      "outputs": []
    },
    {
      "cell_type": "code",
      "source": [
        "print('Random Forest Classifier - Tuning')\n",
        "print(\"=\"*40)\n",
        "print(\"Dados de Teste\")\n",
        "print(\"=\"*40)\n",
        "print(\"Matriz de Confusão\")\n",
        "print(\"-\"*40)\n",
        "calcula_mostra_matriz_confusao(previsoes_rfc_cv_teste, normalize=False)\n",
        "print(\"-\"*40)\n",
        "print(\"Métricas\")\n",
        "print(\"-\"*40)\n",
        "print(\"Acurácia: %f\" % evaluator.evaluate(previsoes_rfc_cv_teste, {evaluator.metricName: \"accuracy\"}))\n",
        "print(\"Precisão: %f\" % evaluator.evaluate(previsoes_rfc_cv_teste, {evaluator.metricName: \"precisionByLabel\", evaluator.metricLabel: 1}))\n",
        "print(\"Recall: %f\" % evaluator.evaluate(previsoes_rfc_cv_teste, {evaluator.metricName: \"recallByLabel\", evaluator.metricLabel: 1}))\n",
        "print(\"F1: %f\" % evaluator.evaluate(previsoes_rfc_cv_teste, {evaluator.metricName: \"fMeasureByLabel\", evaluator.metricLabel: 1}))"
      ],
      "metadata": {
        "id": "f9DrReTuwc-G"
      },
      "execution_count": null,
      "outputs": []
    },
    {
      "cell_type": "code",
      "source": [
        "melhor_modelo_rfc_cv = modelo_rfc_cv.bestModel"
      ],
      "metadata": {
        "id": "UuVBUrQNxpSR"
      },
      "execution_count": null,
      "outputs": []
    },
    {
      "cell_type": "code",
      "source": [
        "print(melhor_modelo_rfc_cv.getMaxDepth())\n",
        "print(melhor_modelo_rfc_cv.getMaxBins())\n",
        "print(melhor_modelo_rfc_cv.getNumTrees)"
      ],
      "metadata": {
        "id": "Mhlv6MYJxwQv"
      },
      "execution_count": null,
      "outputs": []
    },
    {
      "cell_type": "code",
      "source": [
        "rfc_tunning = RandomForestClassifier(maxDepth=10, maxBins=45, numTrees=20, seed=SEED)"
      ],
      "metadata": {
        "id": "7P7ClCnsx7Yo"
      },
      "execution_count": null,
      "outputs": []
    },
    {
      "cell_type": "code",
      "source": [
        "modelo_rfc_tunning = rfc_tunning.fit(dataset_prep)"
      ],
      "metadata": {
        "id": "YyvuN6i1x-v3"
      },
      "execution_count": null,
      "outputs": []
    },
    {
      "cell_type": "code",
      "source": [
        "novo_cliente = [{\n",
        "    'Mais65anos': 0,\n",
        "    'MesesDeContrato': 1,\n",
        "    'MesesCobrados': 45.30540797610398,\n",
        "    'Conjuge': 0,\n",
        "    'Dependentes': 0,\n",
        "    'TelefoneFixo': 0,\n",
        "    'MaisDeUmaLinhaTelefonica': 0,\n",
        "    'SegurancaOnline': 0,\n",
        "    'BackupOnline': 0,\n",
        "    'SeguroDispositivo': 0,\n",
        "    'SuporteTecnico': 0,\n",
        "    'TVaCabo': 1,\n",
        "    'StreamingFilmes': 1,\n",
        "    'ContaCorreio': 1,\n",
        "    'Internet_DSL': 1,\n",
        "    'Internet_FibraOptica': 0,\n",
        "    'Internet_Nao': 0,\n",
        "    'TipoContrato_Mensalmente': 1,\n",
        "    'TipoContrato_UmAno': 0,\n",
        "    'TipoContrato_DoisAnos': 0,\n",
        "    'MetodoPagamento_DebitoEmConta': 0,\n",
        "    'MetodoPagamento_CartaoCredito': 0,\n",
        "    'MetodoPagamento_BoletoEletronico': 1,\n",
        "    'MetodoPagamento_Boleto': 0\n",
        "}]"
      ],
      "metadata": {
        "id": "e4aUVuHOyAqX"
      },
      "execution_count": null,
      "outputs": []
    },
    {
      "cell_type": "code",
      "source": [
        "novo_cliente = spark.createDataFrame(novo_cliente)\n",
        "novo_cliente.show()"
      ],
      "metadata": {
        "id": "PUNtwVW9yCTf"
      },
      "execution_count": null,
      "outputs": []
    },
    {
      "cell_type": "code",
      "source": [
        "assembler = VectorAssembler(inputCols = x, outputCol = 'features')"
      ],
      "metadata": {
        "id": "DrFt6lsmyD8z"
      },
      "execution_count": null,
      "outputs": []
    },
    {
      "cell_type": "code",
      "source": [
        "novo_cliente_prep = assembler.transform(novo_cliente).select('features')"
      ],
      "metadata": {
        "id": "R-GFgKpvyE_j"
      },
      "execution_count": null,
      "outputs": []
    },
    {
      "cell_type": "code",
      "source": [
        "novo_cliente_prep.show(truncate=False)"
      ],
      "metadata": {
        "id": "RcjDNWl_yGVj"
      },
      "execution_count": null,
      "outputs": []
    },
    {
      "cell_type": "code",
      "source": [
        "modelo_rfc_tunning.transform(novo_cliente_prep).show()"
      ],
      "metadata": {
        "id": "leLX607XyHuQ"
      },
      "execution_count": null,
      "outputs": []
    }
  ],
  "metadata": {
    "colab": {
      "provenance": [],
      "include_colab_link": true
    },
    "kernelspec": {
      "display_name": "Python 3",
      "language": "python",
      "name": "python3"
    },
    "language_info": {
      "codemirror_mode": {
        "name": "ipython",
        "version": 3
      },
      "file_extension": ".py",
      "mimetype": "text/x-python",
      "name": "python",
      "nbconvert_exporter": "python",
      "pygments_lexer": "ipython3",
      "version": "3.8.8"
    }
  },
  "nbformat": 4,
  "nbformat_minor": 0
}